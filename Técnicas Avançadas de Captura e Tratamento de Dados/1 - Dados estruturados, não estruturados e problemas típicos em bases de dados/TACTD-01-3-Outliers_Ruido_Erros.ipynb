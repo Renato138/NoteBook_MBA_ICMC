{
 "cells": [
  {
   "cell_type": "markdown",
   "metadata": {},
   "source": [
    "# MBA em Ciência de Dados\n",
    "# Técnicas Avançadas de Captura e Tratamento de Dados\n",
    "\n",
    "### <span style=\"color:darkred\">Dados estruturados e não estruturados e problemas típicos em bases de dados</span>\n",
    "\n",
    "\n",
    "## <span style=\"color:darkred\">Outliers, ruído e dados incorretos/erros</span>\n",
    "\n",
    "Material Produzido por Moacir Antonelli Ponti\n",
    "\n",
    "CeMEAI - ICMC/USP São Carlos\n",
    "\n",
    "--- "
   ]
  },
  {
   "cell_type": "markdown",
   "metadata": {},
   "source": [
    "![outlier](imagens/outlier.jpg)"
   ]
  },
  {
   "cell_type": "markdown",
   "metadata": {},
   "source": [
    "**Outliers, dados incorretos e ruído** são também frequentes em bases de dados.\n",
    "\n",
    "* *outlier* é um dado que recai fora da distribuição principal dos dados\n",
    "* *incorreto* é aquele que existe na base de dados (não é faltante), mas também não se encaixa naquela variável ou atributo de entrada, e deve ser corrigido ou removido\n",
    "* *ruído* é um dado que atrapalha a análise, dificultando encontrar padrões nos dados\n",
    "\n",
    "Os conceitos tem uma diferença tênue. Buscar por esse tipo de dado e estudar forma de compensar sua existência, corrigindo-os ou removendo-os é parte do tratamento de dados."
   ]
  },
  {
   "cell_type": "markdown",
   "metadata": {},
   "source": [
    "---\n",
    "Utilizaremos um conjunto de dados de natalidade em uma maternidade, e que contém os seguintes atributos relativos aos nascidos:\n",
    "* sexo, \n",
    "* peso do nascimento (em gramas), \n",
    "* idade gestacional (em semanas),\n",
    "* mês do nascimento,\n",
    "* ano do nascimento."
   ]
  },
  {
   "cell_type": "code",
   "execution_count": 1,
   "metadata": {},
   "outputs": [
    {
     "name": "stdout",
     "output_type": "stream",
     "text": [
      "Número de observacoes na base de dados:  72\n"
     ]
    },
    {
     "data": {
      "text/html": [
       "<div>\n",
       "<style scoped>\n",
       "    .dataframe tbody tr th:only-of-type {\n",
       "        vertical-align: middle;\n",
       "    }\n",
       "\n",
       "    .dataframe tbody tr th {\n",
       "        vertical-align: top;\n",
       "    }\n",
       "\n",
       "    .dataframe thead th {\n",
       "        text-align: right;\n",
       "    }\n",
       "</style>\n",
       "<table border=\"1\" class=\"dataframe\">\n",
       "  <thead>\n",
       "    <tr style=\"text-align: right;\">\n",
       "      <th></th>\n",
       "      <th>Sex</th>\n",
       "      <th>Weight</th>\n",
       "      <th>Gestational age</th>\n",
       "      <th>Month</th>\n",
       "      <th>Year</th>\n",
       "    </tr>\n",
       "  </thead>\n",
       "  <tbody>\n",
       "    <tr>\n",
       "      <th>0</th>\n",
       "      <td>F</td>\n",
       "      <td>3490</td>\n",
       "      <td>38</td>\n",
       "      <td>12</td>\n",
       "      <td>2016</td>\n",
       "    </tr>\n",
       "    <tr>\n",
       "      <th>1</th>\n",
       "      <td>M</td>\n",
       "      <td>3650</td>\n",
       "      <td>39</td>\n",
       "      <td>12</td>\n",
       "      <td>2016</td>\n",
       "    </tr>\n",
       "    <tr>\n",
       "      <th>2</th>\n",
       "      <td>M</td>\n",
       "      <td>2740</td>\n",
       "      <td>34</td>\n",
       "      <td>12</td>\n",
       "      <td>2016</td>\n",
       "    </tr>\n",
       "  </tbody>\n",
       "</table>\n",
       "</div>"
      ],
      "text/plain": [
       "  Sex  Weight  Gestational age  Month  Year\n",
       "0   F    3490               38     12  2016\n",
       "1   M    3650               39     12  2016\n",
       "2   M    2740               34     12  2016"
      ]
     },
     "execution_count": 1,
     "metadata": {},
     "output_type": "execute_result"
    }
   ],
   "source": [
    "import numpy as np\n",
    "import matplotlib.pyplot as plt\n",
    "import pandas as pd\n",
    "\n",
    "data = pd.read_csv(\"./dados/TACTD-01-Outliers_Erros_Desbal.csv\")\n",
    "\n",
    "print(\"Número de observacoes na base de dados: \", data.shape[0])\n",
    "data.head(3)"
   ]
  },
  {
   "cell_type": "markdown",
   "metadata": {},
   "source": [
    "## Erros\n",
    "\n",
    "São dados que possuem problemas provavelmente durante algum processo na entrada, transmissão ou armazenamento, em que a validação dos dados falhou.\n",
    "\n",
    "Uma forma é inspecionar os valores únicos das variáveis/colunas"
   ]
  },
  {
   "cell_type": "code",
   "execution_count": 2,
   "metadata": {},
   "outputs": [
    {
     "name": "stdout",
     "output_type": "stream",
     "text": [
      "Coluna: Sex Tipo: object\n",
      "['F' 'M' 'P'] \n",
      "\n",
      "Coluna: Weight Tipo: int64\n",
      "[3490 3650 2740 3380 3820 2790 1850 3270 2800 3470 3200 3720 3730 3550\n",
      " 2780 3600 3610 2200 3680 3570 3980 3300 3860 3120 3460 3130 3690 2950\n",
      " 3790 3230 2500 2920 3050 4300 3580 4900 2940 3220 3480 3540 3640 3700\n",
      " 2880 3750 4000 3880 4150 3800 3100 3280 4100 3900 3450] \n",
      "\n",
      "Coluna: Gestational age Tipo: int64\n",
      "[38 39 34 36 35 40 37 41 33 42 43 32] \n",
      "\n",
      "Coluna: Month Tipo: int64\n",
      "[12  1  2  3  4  5] \n",
      "\n",
      "Coluna: Year Tipo: int64\n",
      "[ 2016 22017  2017] \n",
      "\n"
     ]
    }
   ],
   "source": [
    "for var in data:\n",
    "    print('Coluna:', var, 'Tipo:', data[var].dtype)\n",
    "    print(data[var].unique(), '\\n')"
   ]
  },
  {
   "cell_type": "markdown",
   "metadata": {},
   "source": [
    "Dados errôneos encontrados:\n",
    "1. Sexo = P\n",
    "\n",
    "2. Ano = 22017\n"
   ]
  },
  {
   "cell_type": "markdown",
   "metadata": {},
   "source": [
    "O valor **P** não pertence ao que é esperado. Esse dado foi corrompido de alguma forma e representa um dado **incorreto**. Devemos desconsiderá-lo, tornando-o um dado faltante."
   ]
  },
  {
   "cell_type": "markdown",
   "metadata": {},
   "source": [
    "O valor **22017** é recuperável, corrigindo para 2017 que é com grande chance o dado correto"
   ]
  },
  {
   "cell_type": "code",
   "execution_count": 3,
   "metadata": {},
   "outputs": [],
   "source": [
    "# defininos o dado P como sendo faltante\n",
    "data.loc[data['Sex']=='P', 'Sex'] = np.nan\n",
    "\n",
    "# corrigimos o 22017\n",
    "data.loc[data['Year']==22017, 'Year'] = 2017"
   ]
  },
  {
   "cell_type": "markdown",
   "metadata": {},
   "source": [
    "## *Outliers* \n",
    "\n",
    "\n",
    "#### Tipos de *outliers*\n",
    "\n",
    "Também chamados de pontos \"fora-da-curva\" ou aberrantes. \n",
    "\n",
    "Os pontos *não-outliers* são às vezes chamados de *inliers* pois recaem \"dentro\" do esperado.\n",
    "\n",
    "Tipos de outliers incluem : \n",
    "\n",
    "1. Globais ou anomalias de ponto\n",
    "\n",
    "2. Contextuais ou condicionais\n",
    "\n",
    "3. Coletivos\n",
    "\n",
    "---\n"
   ]
  },
  {
   "cell_type": "markdown",
   "metadata": {},
   "source": [
    "1. **Globais ou anomalias de ponto**: são ocorrências de valores *individuais* muito diferentes da maior parte dos dados disponíveis.\n",
    "\n",
    "    Uma forma simples de identificar é gerar gráficos de caixa (ou *boxplots*) dos atributos/colunas da base de dados. \n",
    "    \n",
    "    Esse gráfico exibe:\n",
    "        * o intervalo dos valores que representam 50% do total dos dados dentro de uma caixa\n",
    "        * a mediana como uma linha dentro da caixa\n",
    "        * \"whiskers\" ou bigodes que indicam a dispersão de 1,5 vezes o Intervalo Interquartil (IQR) com relação às bordas das caixas\n"
   ]
  },
  {
   "cell_type": "markdown",
   "metadata": {},
   "source": [
    "![boxplot](imagens/boxplot.png)"
   ]
  },
  {
   "cell_type": "markdown",
   "metadata": {},
   "source": [
    "       \n",
    "    \n",
    "Idealmente, grafamos cada variável individualmente, pois elas têm intervalos de valores distintos! \n",
    "* por exemplo, enquanto o peso está definido ao redor de milhares de gramas, a idade gestacional é em dezenas de semanas"
   ]
  },
  {
   "cell_type": "code",
   "execution_count": 4,
   "metadata": {},
   "outputs": [
    {
     "data": {
      "text/plain": [
       "<AxesSubplot:>"
      ]
     },
     "execution_count": 4,
     "metadata": {},
     "output_type": "execute_result"
    },
    {
     "data": {
      "image/png": "[encoded data removed]",
      "text/plain": [
       "<Figure size 432x288 with 1 Axes>"
      ]
     },
     "metadata": {
      "needs_background": "light"
     },
     "output_type": "display_data"
    }
   ],
   "source": [
    "data.boxplot(column=['Weight'])"
   ]
  },
  {
   "cell_type": "markdown",
   "metadata": {},
   "source": [
    "Notamos que a maior parte dos pesos recaem aproximadamente entre 2500 e 4400, mas temos alguns pontos fora desse intervalo. Vamos tentar encontrá-los:"
   ]
  },
  {
   "cell_type": "code",
   "execution_count": 5,
   "metadata": {},
   "outputs": [
    {
     "data": {
      "text/html": [
       "<div>\n",
       "<style scoped>\n",
       "    .dataframe tbody tr th:only-of-type {\n",
       "        vertical-align: middle;\n",
       "    }\n",
       "\n",
       "    .dataframe tbody tr th {\n",
       "        vertical-align: top;\n",
       "    }\n",
       "\n",
       "    .dataframe thead th {\n",
       "        text-align: right;\n",
       "    }\n",
       "</style>\n",
       "<table border=\"1\" class=\"dataframe\">\n",
       "  <thead>\n",
       "    <tr style=\"text-align: right;\">\n",
       "      <th></th>\n",
       "      <th>Sex</th>\n",
       "      <th>Weight</th>\n",
       "      <th>Gestational age</th>\n",
       "      <th>Month</th>\n",
       "      <th>Year</th>\n",
       "    </tr>\n",
       "  </thead>\n",
       "  <tbody>\n",
       "    <tr>\n",
       "      <th>6</th>\n",
       "      <td>M</td>\n",
       "      <td>1850</td>\n",
       "      <td>38</td>\n",
       "      <td>12</td>\n",
       "      <td>2016</td>\n",
       "    </tr>\n",
       "    <tr>\n",
       "      <th>19</th>\n",
       "      <td>F</td>\n",
       "      <td>2200</td>\n",
       "      <td>33</td>\n",
       "      <td>1</td>\n",
       "      <td>2017</td>\n",
       "    </tr>\n",
       "    <tr>\n",
       "      <th>41</th>\n",
       "      <td>F</td>\n",
       "      <td>4900</td>\n",
       "      <td>42</td>\n",
       "      <td>3</td>\n",
       "      <td>2017</td>\n",
       "    </tr>\n",
       "  </tbody>\n",
       "</table>\n",
       "</div>"
      ],
      "text/plain": [
       "   Sex  Weight  Gestational age  Month  Year\n",
       "6    M    1850               38     12  2016\n",
       "19   F    2200               33      1  2017\n",
       "41   F    4900               42      3  2017"
      ]
     },
     "execution_count": 5,
     "metadata": {},
     "output_type": "execute_result"
    }
   ],
   "source": [
    "data[(data['Weight'] < 2500) | (data['Weight'] > 4400)]"
   ]
  },
  {
   "cell_type": "markdown",
   "metadata": {},
   "source": [
    "Há valores mais altos ou mais baixos do que a maioria. Nesses casos, parecem ser valores inputados corretamente e verdadeiros. \n",
    "\n",
    "Por desviar da maior parte dos dados são considerados **outliers globais**.\n",
    "\n",
    "No entanto, não iremos removê-lo a princípio pois são factíveis e não é possível dizer que são incorretos."
   ]
  },
  {
   "cell_type": "markdown",
   "metadata": {},
   "source": [
    "---\n",
    "\n",
    "2. **Contextuais**: são valores que, observados isoladamente podem não ser aberrantes, mas que ao observar o <u>contexto</u>, sim!\n",
    "\n",
    "    * Em dados **independentes e identicamente distribuídos**, na qual um exemplo (nascimento de um bebê e seus dados) não deveria afetar os próximos exemplos observados, o contexto pode estar nas variáveis envolvidas.\n",
    "    \n",
    "    * Em dados **sequenciais** (como séries temporais, texto), em que uma observação influencia a próxima, o contexto é quase sempre o aspecto temporal/sequencial.\n",
    "    \n",
    "No nosso exemplo, podemos observar se há uma anomalia de peso com relação à idade gestacional!\n",
    "\n",
    "Considere que sabemos, por meio de um especialista que:\n",
    "* bebês nascidos entre 38 e 42 semanas possuem peso normal se estiverem aproximadamente entre 2500 e 4000 gramas.\n",
    "    \n",
    "    Assim, podemos buscar por **outliers contextuais**, em que o peso saia fora desse intervalo <u>dentro do período gestacional</u> indicado.\n",
    "    \n",
    "    Podemos usar busca por fatiamento da base, e também *boxplots*"
   ]
  },
  {
   "cell_type": "code",
   "execution_count": 6,
   "metadata": {},
   "outputs": [
    {
     "data": {
      "text/html": [
       "<div>\n",
       "<style scoped>\n",
       "    .dataframe tbody tr th:only-of-type {\n",
       "        vertical-align: middle;\n",
       "    }\n",
       "\n",
       "    .dataframe tbody tr th {\n",
       "        vertical-align: top;\n",
       "    }\n",
       "\n",
       "    .dataframe thead th {\n",
       "        text-align: right;\n",
       "    }\n",
       "</style>\n",
       "<table border=\"1\" class=\"dataframe\">\n",
       "  <thead>\n",
       "    <tr style=\"text-align: right;\">\n",
       "      <th></th>\n",
       "      <th>Sex</th>\n",
       "      <th>Weight</th>\n",
       "      <th>Gestational age</th>\n",
       "      <th>Month</th>\n",
       "      <th>Year</th>\n",
       "    </tr>\n",
       "  </thead>\n",
       "  <tbody>\n",
       "    <tr>\n",
       "      <th>6</th>\n",
       "      <td>M</td>\n",
       "      <td>1850</td>\n",
       "      <td>38</td>\n",
       "      <td>12</td>\n",
       "      <td>2016</td>\n",
       "    </tr>\n",
       "    <tr>\n",
       "      <th>41</th>\n",
       "      <td>F</td>\n",
       "      <td>4900</td>\n",
       "      <td>42</td>\n",
       "      <td>3</td>\n",
       "      <td>2017</td>\n",
       "    </tr>\n",
       "    <tr>\n",
       "      <th>62</th>\n",
       "      <td>F</td>\n",
       "      <td>4150</td>\n",
       "      <td>41</td>\n",
       "      <td>5</td>\n",
       "      <td>2017</td>\n",
       "    </tr>\n",
       "  </tbody>\n",
       "</table>\n",
       "</div>"
      ],
      "text/plain": [
       "   Sex  Weight  Gestational age  Month  Year\n",
       "6    M    1850               38     12  2016\n",
       "41   F    4900               42      3  2017\n",
       "62   F    4150               41      5  2017"
      ]
     },
     "execution_count": 6,
     "metadata": {},
     "output_type": "execute_result"
    }
   ],
   "source": [
    "#cria visão do dataframe com base na idade gestacional\n",
    "d_term = data[(data['Gestational age'] >= 38) & (data['Gestational age'] <= 42)]\n",
    "\n",
    "# buscando por anomalias contextuais por limiar\n",
    "d_term[ (d_term['Weight'] < 2500) | (d_term['Weight'] > 4000) ]"
   ]
  },
  {
   "cell_type": "code",
   "execution_count": 7,
   "metadata": {},
   "outputs": [
    {
     "data": {
      "text/plain": [
       "<AxesSubplot:>"
      ]
     },
     "execution_count": 7,
     "metadata": {},
     "output_type": "execute_result"
    },
    {
     "data": {
      "image/png": "[encoded data removed]",
      "text/plain": [
       "<Figure size 432x288 with 1 Axes>"
      ]
     },
     "metadata": {
      "needs_background": "light"
     },
     "output_type": "display_data"
    }
   ],
   "source": [
    "# usando boxplot\n",
    "d_term.boxplot(column=['Weight'])"
   ]
  },
  {
   "cell_type": "markdown",
   "metadata": {},
   "source": [
    "É interessante notar que nossa busca específica retornou 3 enquanto o *boxplot* apenas 2 elementos como outliers\n",
    "\n",
    "Vamos inspecionar os casos segundo o critério do especialista:"
   ]
  },
  {
   "cell_type": "code",
   "execution_count": 8,
   "metadata": {
    "scrolled": true
   },
   "outputs": [
    {
     "data": {
      "text/html": [
       "<div>\n",
       "<style scoped>\n",
       "    .dataframe tbody tr th:only-of-type {\n",
       "        vertical-align: middle;\n",
       "    }\n",
       "\n",
       "    .dataframe tbody tr th {\n",
       "        vertical-align: top;\n",
       "    }\n",
       "\n",
       "    .dataframe thead th {\n",
       "        text-align: right;\n",
       "    }\n",
       "</style>\n",
       "<table border=\"1\" class=\"dataframe\">\n",
       "  <thead>\n",
       "    <tr style=\"text-align: right;\">\n",
       "      <th></th>\n",
       "      <th>Sex</th>\n",
       "      <th>Weight</th>\n",
       "      <th>Gestational age</th>\n",
       "      <th>Month</th>\n",
       "      <th>Year</th>\n",
       "    </tr>\n",
       "  </thead>\n",
       "  <tbody>\n",
       "    <tr>\n",
       "      <th>6</th>\n",
       "      <td>M</td>\n",
       "      <td>1850</td>\n",
       "      <td>38</td>\n",
       "      <td>12</td>\n",
       "      <td>2016</td>\n",
       "    </tr>\n",
       "  </tbody>\n",
       "</table>\n",
       "</div>"
      ],
      "text/plain": [
       "  Sex  Weight  Gestational age  Month  Year\n",
       "6   M    1850               38     12  2016"
      ]
     },
     "execution_count": 8,
     "metadata": {},
     "output_type": "execute_result"
    }
   ],
   "source": [
    "d_term[ (d_term['Weight'] < 2000)]"
   ]
  },
  {
   "cell_type": "markdown",
   "metadata": {},
   "source": [
    "Aqui, segundo as diretrizes indicadas por um especialista, é provável que temos um outlier contextual, ou seja, considerando qualquer idade gestacional não seria um outlier, mas se levarmos em conta que foram 38 semanas, então é um outlier."
   ]
  },
  {
   "cell_type": "markdown",
   "metadata": {},
   "source": [
    "Quanto ao segundo caso:"
   ]
  },
  {
   "cell_type": "code",
   "execution_count": 9,
   "metadata": {},
   "outputs": [
    {
     "data": {
      "text/html": [
       "<div>\n",
       "<style scoped>\n",
       "    .dataframe tbody tr th:only-of-type {\n",
       "        vertical-align: middle;\n",
       "    }\n",
       "\n",
       "    .dataframe tbody tr th {\n",
       "        vertical-align: top;\n",
       "    }\n",
       "\n",
       "    .dataframe thead th {\n",
       "        text-align: right;\n",
       "    }\n",
       "</style>\n",
       "<table border=\"1\" class=\"dataframe\">\n",
       "  <thead>\n",
       "    <tr style=\"text-align: right;\">\n",
       "      <th></th>\n",
       "      <th>Sex</th>\n",
       "      <th>Weight</th>\n",
       "      <th>Gestational age</th>\n",
       "      <th>Month</th>\n",
       "      <th>Year</th>\n",
       "    </tr>\n",
       "  </thead>\n",
       "  <tbody>\n",
       "    <tr>\n",
       "      <th>41</th>\n",
       "      <td>F</td>\n",
       "      <td>4900</td>\n",
       "      <td>42</td>\n",
       "      <td>3</td>\n",
       "      <td>2017</td>\n",
       "    </tr>\n",
       "    <tr>\n",
       "      <th>62</th>\n",
       "      <td>F</td>\n",
       "      <td>4150</td>\n",
       "      <td>41</td>\n",
       "      <td>5</td>\n",
       "      <td>2017</td>\n",
       "    </tr>\n",
       "  </tbody>\n",
       "</table>\n",
       "</div>"
      ],
      "text/plain": [
       "   Sex  Weight  Gestational age  Month  Year\n",
       "41   F    4900               42      3  2017\n",
       "62   F    4150               41      5  2017"
      ]
     },
     "execution_count": 9,
     "metadata": {},
     "output_type": "execute_result"
    }
   ],
   "source": [
    "d_term[ (d_term['Weight'] > 4000)]"
   ]
  },
  {
   "cell_type": "markdown",
   "metadata": {},
   "source": [
    "Aqui, temos um caso limítrofe (4150) e precisamos da ajuda de especialistas para decidir o que significa esse *outlier*\n",
    "\n",
    "Já 4900 parece ser outlier ainda que também possível dentro dos limites esperados."
   ]
  },
  {
   "cell_type": "markdown",
   "metadata": {},
   "source": [
    "\n",
    "--- \n",
    "\n",
    "3. **Coletivos**: um conjunto de observacões cujos valores, quando analisados em grupo, indicam um evento não usual.\n",
    "\n",
    "    Em geral:\n",
    "    * não são *outliers globais* pois seus valores recaem dentro da maior parte dos dados globalmente\n",
    "    \n",
    "    * não são *outliers contextuais* pois individualmente podem ser considerados normais quando observados contextos relevantes\n",
    "\n",
    "No nosso exemplo, vamos analisar os dados relativos ao nascimento de bebês do sexo masculino e feminino, mês a mês."
   ]
  },
  {
   "cell_type": "code",
   "execution_count": 10,
   "metadata": {},
   "outputs": [
    {
     "data": {
      "text/html": [
       "<div>\n",
       "<style scoped>\n",
       "    .dataframe tbody tr th:only-of-type {\n",
       "        vertical-align: middle;\n",
       "    }\n",
       "\n",
       "    .dataframe tbody tr th {\n",
       "        vertical-align: top;\n",
       "    }\n",
       "\n",
       "    .dataframe thead th {\n",
       "        text-align: right;\n",
       "    }\n",
       "</style>\n",
       "<table border=\"1\" class=\"dataframe\">\n",
       "  <thead>\n",
       "    <tr style=\"text-align: right;\">\n",
       "      <th></th>\n",
       "      <th></th>\n",
       "      <th>count</th>\n",
       "      <th>unique</th>\n",
       "      <th>top</th>\n",
       "      <th>freq</th>\n",
       "    </tr>\n",
       "    <tr>\n",
       "      <th>Year</th>\n",
       "      <th>Month</th>\n",
       "      <th></th>\n",
       "      <th></th>\n",
       "      <th></th>\n",
       "      <th></th>\n",
       "    </tr>\n",
       "  </thead>\n",
       "  <tbody>\n",
       "    <tr>\n",
       "      <th>2016</th>\n",
       "      <th>12</th>\n",
       "      <td>12</td>\n",
       "      <td>2</td>\n",
       "      <td>F</td>\n",
       "      <td>8</td>\n",
       "    </tr>\n",
       "    <tr>\n",
       "      <th rowspan=\"5\" valign=\"top\">2017</th>\n",
       "      <th>1</th>\n",
       "      <td>14</td>\n",
       "      <td>2</td>\n",
       "      <td>F</td>\n",
       "      <td>9</td>\n",
       "    </tr>\n",
       "    <tr>\n",
       "      <th>2</th>\n",
       "      <td>12</td>\n",
       "      <td>2</td>\n",
       "      <td>F</td>\n",
       "      <td>7</td>\n",
       "    </tr>\n",
       "    <tr>\n",
       "      <th>3</th>\n",
       "      <td>11</td>\n",
       "      <td>2</td>\n",
       "      <td>F</td>\n",
       "      <td>9</td>\n",
       "    </tr>\n",
       "    <tr>\n",
       "      <th>4</th>\n",
       "      <td>10</td>\n",
       "      <td>2</td>\n",
       "      <td>F</td>\n",
       "      <td>8</td>\n",
       "    </tr>\n",
       "    <tr>\n",
       "      <th>5</th>\n",
       "      <td>12</td>\n",
       "      <td>1</td>\n",
       "      <td>F</td>\n",
       "      <td>12</td>\n",
       "    </tr>\n",
       "  </tbody>\n",
       "</table>\n",
       "</div>"
      ],
      "text/plain": [
       "           count unique top freq\n",
       "Year Month                      \n",
       "2016 12       12      2   F    8\n",
       "2017 1        14      2   F    9\n",
       "     2        12      2   F    7\n",
       "     3        11      2   F    9\n",
       "     4        10      2   F    8\n",
       "     5        12      1   F   12"
      ]
     },
     "execution_count": 10,
     "metadata": {},
     "output_type": "execute_result"
    }
   ],
   "source": [
    "data.groupby(['Year','Month'])['Sex'].describe()"
   ]
  },
  {
   "cell_type": "markdown",
   "metadata": {},
   "source": [
    "Observando a estatística descritiva acima, veja que no mês 5 há 12 ocorrências, mas apenas um único valor, **F**\n",
    "\n",
    "Vamos visualizar:\n"
   ]
  },
  {
   "cell_type": "code",
   "execution_count": 11,
   "metadata": {},
   "outputs": [
    {
     "data": {
      "text/html": [
       "<div>\n",
       "<style scoped>\n",
       "    .dataframe tbody tr th:only-of-type {\n",
       "        vertical-align: middle;\n",
       "    }\n",
       "\n",
       "    .dataframe tbody tr th {\n",
       "        vertical-align: top;\n",
       "    }\n",
       "\n",
       "    .dataframe thead th {\n",
       "        text-align: right;\n",
       "    }\n",
       "</style>\n",
       "<table border=\"1\" class=\"dataframe\">\n",
       "  <thead>\n",
       "    <tr style=\"text-align: right;\">\n",
       "      <th></th>\n",
       "      <th>Sex</th>\n",
       "      <th>Weight</th>\n",
       "      <th>Gestational age</th>\n",
       "      <th>Month</th>\n",
       "      <th>Year</th>\n",
       "    </tr>\n",
       "  </thead>\n",
       "  <tbody>\n",
       "    <tr>\n",
       "      <th>60</th>\n",
       "      <td>F</td>\n",
       "      <td>3120</td>\n",
       "      <td>34</td>\n",
       "      <td>5</td>\n",
       "      <td>2017</td>\n",
       "    </tr>\n",
       "    <tr>\n",
       "      <th>61</th>\n",
       "      <td>F</td>\n",
       "      <td>3380</td>\n",
       "      <td>37</td>\n",
       "      <td>5</td>\n",
       "      <td>2017</td>\n",
       "    </tr>\n",
       "    <tr>\n",
       "      <th>62</th>\n",
       "      <td>F</td>\n",
       "      <td>4150</td>\n",
       "      <td>41</td>\n",
       "      <td>5</td>\n",
       "      <td>2017</td>\n",
       "    </tr>\n",
       "    <tr>\n",
       "      <th>63</th>\n",
       "      <td>F</td>\n",
       "      <td>3800</td>\n",
       "      <td>42</td>\n",
       "      <td>5</td>\n",
       "      <td>2017</td>\n",
       "    </tr>\n",
       "    <tr>\n",
       "      <th>64</th>\n",
       "      <td>F</td>\n",
       "      <td>3100</td>\n",
       "      <td>37</td>\n",
       "      <td>5</td>\n",
       "      <td>2017</td>\n",
       "    </tr>\n",
       "    <tr>\n",
       "      <th>65</th>\n",
       "      <td>F</td>\n",
       "      <td>3280</td>\n",
       "      <td>40</td>\n",
       "      <td>5</td>\n",
       "      <td>2017</td>\n",
       "    </tr>\n",
       "    <tr>\n",
       "      <th>66</th>\n",
       "      <td>F</td>\n",
       "      <td>4000</td>\n",
       "      <td>38</td>\n",
       "      <td>5</td>\n",
       "      <td>2017</td>\n",
       "    </tr>\n",
       "    <tr>\n",
       "      <th>67</th>\n",
       "      <td>F</td>\n",
       "      <td>4100</td>\n",
       "      <td>37</td>\n",
       "      <td>5</td>\n",
       "      <td>2017</td>\n",
       "    </tr>\n",
       "    <tr>\n",
       "      <th>68</th>\n",
       "      <td>F</td>\n",
       "      <td>3900</td>\n",
       "      <td>40</td>\n",
       "      <td>5</td>\n",
       "      <td>2017</td>\n",
       "    </tr>\n",
       "    <tr>\n",
       "      <th>69</th>\n",
       "      <td>F</td>\n",
       "      <td>3450</td>\n",
       "      <td>37</td>\n",
       "      <td>5</td>\n",
       "      <td>2017</td>\n",
       "    </tr>\n",
       "    <tr>\n",
       "      <th>70</th>\n",
       "      <td>F</td>\n",
       "      <td>3100</td>\n",
       "      <td>33</td>\n",
       "      <td>5</td>\n",
       "      <td>2017</td>\n",
       "    </tr>\n",
       "    <tr>\n",
       "      <th>71</th>\n",
       "      <td>F</td>\n",
       "      <td>2800</td>\n",
       "      <td>35</td>\n",
       "      <td>5</td>\n",
       "      <td>2017</td>\n",
       "    </tr>\n",
       "  </tbody>\n",
       "</table>\n",
       "</div>"
      ],
      "text/plain": [
       "   Sex  Weight  Gestational age  Month  Year\n",
       "60   F    3120               34      5  2017\n",
       "61   F    3380               37      5  2017\n",
       "62   F    4150               41      5  2017\n",
       "63   F    3800               42      5  2017\n",
       "64   F    3100               37      5  2017\n",
       "65   F    3280               40      5  2017\n",
       "66   F    4000               38      5  2017\n",
       "67   F    4100               37      5  2017\n",
       "68   F    3900               40      5  2017\n",
       "69   F    3450               37      5  2017\n",
       "70   F    3100               33      5  2017\n",
       "71   F    2800               35      5  2017"
      ]
     },
     "execution_count": 11,
     "metadata": {},
     "output_type": "execute_result"
    }
   ],
   "source": [
    "data[data['Month'] == 5]"
   ]
  },
  {
   "cell_type": "markdown",
   "metadata": {},
   "source": [
    "De fato, observar apenas nascimento de bebês do sexo feminino em um determinado mês é um **outlier coletivo**.\n",
    "\n",
    "Note que os valores de sexo e mês individualmente não indicam **outlier global**, e que, quando analisamos observacoes uma a uma, é normal que um bebê do sexo feminino nasca no mês 5, então também a análise individual não mostra **outlier contextual**.\n",
    "\n",
    "Assim, apenas pela análise conjunta identificamos um comportamento de **outlier**."
   ]
  },
  {
   "cell_type": "markdown",
   "metadata": {},
   "source": [
    "--- \n",
    "## Ruído\n",
    "\n",
    "Talvez o mais desafiador dos problemas mencionados, pode ser detectado como outlier ou até mesmo como inlier, mas que representam uma quebra de padrões, dificultando a modelagem do problema.\n",
    "\n",
    "Por exemplo, suponha que queremos fazer uma modelagem do peso com relação à idade gestacional"
   ]
  },
  {
   "cell_type": "code",
   "execution_count": 12,
   "metadata": {
    "scrolled": false
   },
   "outputs": [
    {
     "data": {
      "text/plain": [
       "[<matplotlib.lines.Line2D at 0x1fd2a28a9d0>]"
      ]
     },
     "execution_count": 12,
     "metadata": {},
     "output_type": "execute_result"
    },
    {
     "data": {
      "image/png": "[encoded data removed]",
      "text/plain": [
       "<Figure size 432x288 with 1 Axes>"
      ]
     },
     "metadata": {
      "needs_background": "light"
     },
     "output_type": "display_data"
    }
   ],
   "source": [
    "plt.plot(data['Gestational age'], data['Weight'], '.')"
   ]
  },
  {
   "cell_type": "markdown",
   "metadata": {},
   "source": [
    "É possível identificar pontos que são outliers, mas que representam o padrão esperado: bebês com maior idade gestacional possuem maior peso.\n",
    "\n",
    "No entanto, notamos que com 38 semanas há um bebê com um peso muito baixo. Esse dado é provavelmente **ruidoso**, ou seja, mesmo que real e não incorreto, levá-lo em consideração para encontrar padrões poderia prejudicar a análise."
   ]
  },
  {
   "cell_type": "code",
   "execution_count": 13,
   "metadata": {},
   "outputs": [
    {
     "data": {
      "text/plain": [
       "(71, 5)"
      ]
     },
     "execution_count": 13,
     "metadata": {},
     "output_type": "execute_result"
    }
   ],
   "source": [
    "data_clean = data[data['Weight'] > 1900 ]\n",
    "data_clean.shape"
   ]
  },
  {
   "cell_type": "markdown",
   "metadata": {},
   "source": [
    "---\n",
    "## Resumo\n",
    "\n",
    "* Reconhecer outliers pode ser muito útil para entender os dados, e isso pode levar a diferentes aplicações:\n",
    "    * detectar dados errôneos\n",
    "    * detectar anomalias que possam ser reportadas\n",
    "* É preciso ter conhecimento do domínio para ir além dos outliers globais, capturando também os contextuais e coletivos.\n",
    "* Erros podem ou não ser passíveis de correção\n",
    "* Ruído são dados que atrapalhariam análises e devemos considerar remover"
   ]
  }
 ],
 "metadata": {
  "kernelspec": {
   "display_name": "Python 3",
   "language": "python",
   "name": "python3"
  },
  "language_info": {
   "codemirror_mode": {
    "name": "ipython",
    "version": 3
   },
   "file_extension": ".py",
   "mimetype": "text/x-python",
   "name": "python",
   "nbconvert_exporter": "python",
   "pygments_lexer": "ipython3",
   "version": "3.8.8"
  }
 },
 "nbformat": 4,
 "nbformat_minor": 4
}
