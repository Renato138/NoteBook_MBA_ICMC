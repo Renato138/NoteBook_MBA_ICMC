{
 "cells": [
  {
   "cell_type": "markdown",
   "id": "c0839b8d",
   "metadata": {},
   "source": [
    "Exercicios prova"
   ]
  },
  {
   "cell_type": "code",
   "execution_count": 5,
   "id": "1dcf0746",
   "metadata": {},
   "outputs": [
    {
     "name": "stdout",
     "output_type": "stream",
     "text": [
      "X: [0, 0, 2, 3, 1, 2, 4, 5, 6, 8, 7, 5, 3, 1, 0, 7, 3, 2, 3, 4, 5, 6, 7, 8, 9, 1, 1, 2, 2, 3]\n",
      "Média de X: 3.6666666666666665\n",
      "Variância de X: 6.919540229885057\n",
      "Desvio Padrão de X: 2.630501896955229\n",
      "IQR de X: 3.75\n",
      "Amplitude de X: 9\n"
     ]
    }
   ],
   "source": [
    "import numpy as np\n",
    "import matplotlib.pyplot as plt #biblioteca gráfica para mostrar os gráficos\n",
    "import math\n",
    "\n",
    "from scipy.stats import iqr\n",
    "\n",
    "def variancia(X):\n",
    "    m = np.mean(X)\n",
    "    N = len(X)\n",
    "    s = 0\n",
    "    for i in np.arange(0, len(X)):\n",
    "        s = s + (X[i]-m)**2\n",
    "    s = s/(N-1)\n",
    "    return s\n",
    "\n",
    "X = [0,0,2,3,1,2,4,5,6,8,7,5,3,1,0,7,3,2,3,4,5,6,7,8,9,1,1,2,2,3]\n",
    "mx = np.mean(X)\n",
    "\n",
    "var = variancia(X)\n",
    "sd = math.sqrt(var)\n",
    "print('X:', X)\n",
    "print('Média de X:', mx)\n",
    "print('Variância de X:', var)\n",
    "print( 'Desvio Padrão de X:', sd )\n",
    "print('IQR de X:', iqr(X))\n",
    "print('Amplitude de X:', np.max(X)-np.min(X))\n"
   ]
  },
  {
   "cell_type": "code",
   "execution_count": 14,
   "id": "8b07f7ec",
   "metadata": {},
   "outputs": [
    {
     "name": "stdout",
     "output_type": "stream",
     "text": [
      "Pearson corr. = 0.78\n",
      "Spearman corr. = 1.0\n"
     ]
    },
    {
     "data": {
      "image/png": "[encoded data removed]",
      "text/plain": [
       "<Figure size 432x288 with 1 Axes>"
      ]
     },
     "metadata": {
      "needs_background": "light"
     },
     "output_type": "display_data"
    }
   ],
   "source": [
    "import numpy as np\n",
    "import matplotlib.pyplot as plt\n",
    "from scipy.stats import pearsonr, spearmanr\n",
    "import math\n",
    "\n",
    "N = 100\n",
    "x = np.arange(-1.5,1.5,0.1)\n",
    "z = np.arange(-1.5,1.5,0.1)\n",
    "\n",
    "for i in range(0, len(x)):\n",
    "    z[i] = math.tan(x[i])\n",
    "\n",
    "plt.plot(x, z) \n",
    "plt.xlabel(\"x\",fontsize = 20) \n",
    "plt.ylabel(\"Tangente(X)\", fontsize = 20) \n",
    "corr, p_value = pearsonr(x, z)\n",
    "corrs, p_values = spearmanr(x, z)\n",
    "\n",
    "corr = int(corr*100)/100\n",
    "corrs = int(corrs*100)/100\n",
    "\n",
    "print('Pearson corr. = '+ str(corr))\n",
    "print('Spearman corr. = '+ str(corrs))"
   ]
  },
  {
   "cell_type": "code",
   "execution_count": 15,
   "id": "81cc2aef",
   "metadata": {},
   "outputs": [
    {
     "name": "stdout",
     "output_type": "stream",
     "text": [
      "KL(P,Q) =  0.20380924824852753\n",
      "KL(Q,P) =  0.15308505475833864\n"
     ]
    }
   ],
   "source": [
    "from scipy.stats import entropy\n",
    "P = [0.15,0.25,0.2]\n",
    "Q =  [0.3, 0.6, 0.1]\n",
    "\n",
    "print('KL(P,Q) = ', entropy(P,Q, base = np.exp(1)))\n",
    "print('KL(Q,P) = ', entropy(Q,P, base = np.exp(1)))"
   ]
  }
 ],
 "metadata": {
  "kernelspec": {
   "display_name": "Python 3",
   "language": "python",
   "name": "python3"
  },
  "language_info": {
   "codemirror_mode": {
    "name": "ipython",
    "version": 3
   },
   "file_extension": ".py",
   "mimetype": "text/x-python",
   "name": "python",
   "nbconvert_exporter": "python",
   "pygments_lexer": "ipython3",
   "version": "3.8.8"
  }
 },
 "nbformat": 4,
 "nbformat_minor": 5
}
