{
 "cells": [
  {
   "cell_type": "markdown",
   "metadata": {},
   "source": [
    "# Aula 1: Ciência de Dados e suas etapas"
   ]
  },
  {
   "cell_type": "markdown",
   "metadata": {},
   "source": [
    "Francisco Aparecido Rodrigues, francisco@icmc.usp.br.<br>\n",
    "Universidade de São Paulo, São Carlos, Brasil.<br>\n",
    "Copyright (c) 2020."
   ]
  },
  {
   "cell_type": "markdown",
   "metadata": {},
   "source": [
    "Nesta aula, vamos mostrar como descrevemos os dados em termos de medidas de estatística. Medidas de posição, dispersão e correlação serão cobertas, com aplicações em diferentes conjuntos de dados."
   ]
  },
  {
   "cell_type": "markdown",
   "metadata": {},
   "source": [
    "## Medidas de posição"
   ]
  },
  {
   "cell_type": "markdown",
   "metadata": {},
   "source": [
    "### Moda"
   ]
  },
  {
   "cell_type": "markdown",
   "metadata": {},
   "source": [
    "Uma medida importante de tendência central é a moda, que retorna o elemento mais comum em um conjunto de dados. Geralmente, essa medida é usada para atributos nominais.<br> \n",
    "Vamos considerar um exemplo."
   ]
  },
  {
   "cell_type": "code",
   "execution_count": 1,
   "metadata": {},
   "outputs": [
    {
     "name": "stdout",
     "output_type": "stream",
     "text": [
      "X: [0, 1, 1, 2, 2, 2, 3, 3]\n"
     ]
    }
   ],
   "source": [
    "import numpy as np \n",
    "X = [0,1,1,2,2,2,3,3]\n",
    "print('X:', X)"
   ]
  },
  {
   "cell_type": "markdown",
   "metadata": {},
   "source": [
    "Para calcularmos a moda, usamos o pacote Statistics:"
   ]
  },
  {
   "cell_type": "code",
   "execution_count": 2,
   "metadata": {},
   "outputs": [
    {
     "name": "stdout",
     "output_type": "stream",
     "text": [
      "A moda de X: 2\n"
     ]
    }
   ],
   "source": [
    "from statistics import mode\n",
    "m = mode(X)\n",
    "print('A moda de X:', m)"
   ]
  },
  {
   "cell_type": "markdown",
   "metadata": {},
   "source": [
    "Podemos também identificar a moda visualmente em um gráfico de barras, que representa o valor mais frequente."
   ]
  },
  {
   "cell_type": "code",
   "execution_count": 3,
   "metadata": {},
   "outputs": [
    {
     "name": "stdout",
     "output_type": "stream",
     "text": [
      "X: [0, 1, 1, 2, 2, 2, 3, 3]\n",
      "Valores possíveis: [0 1 2 3]\n",
      "Frequencia dos valores: [1. 2. 3. 2.]\n"
     ]
    },
    {
     "data": {
      "image/png": "[encoded data removed]",
      "text/plain": [
       "<Figure size 432x288 with 1 Axes>"
      ]
     },
     "metadata": {
      "needs_background": "light"
     },
     "output_type": "display_data"
    }
   ],
   "source": [
    "import matplotlib.pyplot as plt #biblioteca gráfica para mostrar os gráficos\n",
    "\n",
    "# Usamos a funções sort e unique do Numpy para encontrar os valores possíveis em ordem crescente.\n",
    "# esses valores serão mostrados na abscissa do gráfico.\n",
    "values = np.sort(np.unique(X)) \n",
    "# vamos calcular a frequência de cada valor presente na lista\n",
    "freq = np.zeros(len(values)) # armazena as frequencias\n",
    "ind = 0 # indice do vetor de frequências\n",
    "for i in values: # para os valores diferentes\n",
    "    counter = 0 # conta as ocorrências\n",
    "    for j in range(0,len(X)):\n",
    "        if(X[j] == i):\n",
    "            counter = counter + 1\n",
    "    freq[ind] = counter\n",
    "    ind = ind + 1\n",
    "\n",
    "print('X:',X)\n",
    "print('Valores possíveis:', values)\n",
    "print('Frequencia dos valores:', freq)\n",
    "\n",
    "y_pos = np.arange(len(values))\n",
    "plt.xticks(y_pos, values)\n",
    "plt.bar(y_pos, freq)\n",
    "plt.xlabel(\"Valores\",fontsize = 20) \n",
    "plt.ylabel(\"Frequência\", fontsize = 20) \n",
    "\n",
    "\n",
    "plt.show()"
   ]
  },
  {
   "cell_type": "markdown",
   "metadata": {},
   "source": [
    "Podemos aplicar a função em dados nominais:"
   ]
  },
  {
   "cell_type": "code",
   "execution_count": 4,
   "metadata": {},
   "outputs": [
    {
     "name": "stdout",
     "output_type": "stream",
     "text": [
      "A moda de Y: red\n"
     ]
    }
   ],
   "source": [
    "Y = [\"red\", \"blue\", \"blue\", \"red\", \"green\", \"red\", \"red\"]\n",
    "print('A moda de Y:', mode(Y))"
   ]
  },
  {
   "cell_type": "markdown",
   "metadata": {},
   "source": [
    "O gráfico de barras mostrando a frequêbncia:"
   ]
  },
  {
   "cell_type": "code",
   "execution_count": 5,
   "metadata": {},
   "outputs": [
    {
     "name": "stdout",
     "output_type": "stream",
     "text": [
      "Y: ['red', 'blue', 'blue', 'red', 'green', 'red', 'red']\n",
      "Valores possíveis: ['blue' 'green' 'red']\n",
      "Frequencia dos valores: [2. 1. 4.]\n"
     ]
    },
    {
     "data": {
      "image/png": "[encoded data removed]",
      "text/plain": [
       "<Figure size 432x288 with 1 Axes>"
      ]
     },
     "metadata": {
      "needs_background": "light"
     },
     "output_type": "display_data"
    }
   ],
   "source": [
    "import matplotlib.pyplot as plt #biblioteca gráfica para mostrar os gráficos\n",
    "values = np.sort(np.unique(Y)) #usamos a funções sort e unique do Numpy para encontrar os valores possíveis.\n",
    "# vamos calcular a frequência de cada valor presente na lista\n",
    "freq = np.zeros(len(values)) # armazena as frequencias\n",
    "ind = 0 # indice do vetor de frequências\n",
    "for i in values: # para os valores diferentes\n",
    "    counter = 0 # conta as ocorrências\n",
    "    for j in range(0,len(Y)):\n",
    "        if(Y[j] == i):\n",
    "            counter = counter + 1\n",
    "    freq[ind] = counter\n",
    "    ind = ind + 1\n",
    "\n",
    "print('Y:',Y)\n",
    "print('Valores possíveis:', values)\n",
    "print('Frequencia dos valores:', freq)\n",
    "\n",
    "y_pos = np.arange(len(values))\n",
    "plt.xticks(y_pos, values)\n",
    "plt.bar(y_pos, freq)\n",
    "plt.xticks(fontsize=18)\n",
    "plt.yticks(fontsize=18)\n",
    "plt.xlabel(\"Valores\",fontsize = 20) \n",
    "plt.ylabel(\"Frequência\", fontsize = 20) \n",
    "plt.show()"
   ]
  },
  {
   "cell_type": "markdown",
   "metadata": {},
   "source": [
    "### Média e Mediana"
   ]
  },
  {
   "cell_type": "markdown",
   "metadata": {},
   "source": [
    "A média e mediana são medidas de tendência central usadas para dados quantitativos. Assim, a média:"
   ]
  },
  {
   "cell_type": "code",
   "execution_count": 6,
   "metadata": {},
   "outputs": [
    {
     "name": "stdout",
     "output_type": "stream",
     "text": [
      "X: [1, 1, 1, 2, 2, 3, 4, 5, 5, 5]\n",
      "A média: 2.9\n"
     ]
    }
   ],
   "source": [
    "import numpy as np \n",
    "X = [1,1,1,2,2,3,4,5,5,5]\n",
    "mx = np.mean(X)\n",
    "print('X:', X)\n",
    "print('A média:', mx)"
   ]
  },
  {
   "cell_type": "markdown",
   "metadata": {},
   "source": [
    "No caso da mediana:"
   ]
  },
  {
   "cell_type": "code",
   "execution_count": 7,
   "metadata": {},
   "outputs": [
    {
     "name": "stdout",
     "output_type": "stream",
     "text": [
      "X: [1, 1, 1, 2, 2, 3, 4, 5, 5, 5]\n",
      "A mediana: 2.5\n"
     ]
    }
   ],
   "source": [
    "md = np.median(X)\n",
    "print('X:', X)\n",
    "print('A mediana:', md)"
   ]
  },
  {
   "cell_type": "markdown",
   "metadata": {},
   "source": [
    "Se adicionarmos um valor extremo aos dados, vejamos como a média e a mediana se comportam:"
   ]
  },
  {
   "cell_type": "code",
   "execution_count": 8,
   "metadata": {},
   "outputs": [
    {
     "name": "stdout",
     "output_type": "stream",
     "text": [
      "X2: [1, 1, 1, 2, 2, 3, 4, 5, 5, 100]\n",
      "A nova média: 12.4\n",
      "A nova mediana: 2.5\n"
     ]
    }
   ],
   "source": [
    "X2 = [1,1,1,2,2,3,4,5,5,100]\n",
    "print('X2:', X2)\n",
    "print('A nova média:', np.mean(X2))\n",
    "print('A nova mediana:', np.median(X2))"
   ]
  },
  {
   "cell_type": "markdown",
   "metadata": {},
   "source": [
    "Ou seja, a média é altamente sensível a valores extremos, enquanto que a mediana é mais robusta."
   ]
  },
  {
   "cell_type": "markdown",
   "metadata": {},
   "source": [
    "Vamos considerar uma distribuição de probabilidades. Os dados são gerados a partir de distribuições normal e exponencial."
   ]
  },
  {
   "cell_type": "markdown",
   "metadata": {},
   "source": [
    "Para a distribuição normal, a média é indicada pela linha contínua e a mediana, pela tracejada."
   ]
  },
  {
   "cell_type": "code",
   "execution_count": 13,
   "metadata": {},
   "outputs": [
    {
     "data": {
      "image/png": "[encoded data removed]",
      "text/plain": [
       "<Figure size 432x288 with 1 Axes>"
      ]
     },
     "metadata": {
      "needs_background": "light"
     },
     "output_type": "display_data"
    }
   ],
   "source": [
    "import numpy as np\n",
    "import matplotlib.pyplot as plt #biblioteca gráfica para mostrar os gráficos\n",
    "\n",
    "mu = 0 # Média da distribuicao normal\n",
    "sigma = 10 #desvio padrão da distribuição normal\n",
    "Y = np.random.normal(mu, sigma, 500)\n",
    "plt.hist(Y, density=True, bins=50,lw=0,alpha=.8)\n",
    "\n",
    "m = np.mean(Y)\n",
    "md = np.median(Y)\n",
    "plt.vlines(m,0,0.05)\n",
    "plt.vlines(md,0,0.05, linestyles = 'dashed')\n",
    "plt.xticks(fontsize=14)\n",
    "plt.yticks(fontsize=14)\n",
    "plt.xlabel(\"x\",fontsize = 20) \n",
    "plt.ylabel(\"p(x)\", fontsize = 20) \n",
    "plt.show(True)"
   ]
  },
  {
   "cell_type": "markdown",
   "metadata": {},
   "source": [
    "Para a distribuição exponencial, a média é indicada pela linha contínua e a mediana, pela tracejada."
   ]
  },
  {
   "cell_type": "code",
   "execution_count": 14,
   "metadata": {},
   "outputs": [
    {
     "data": {
      "image/png": "[encoded data removed]",
      "text/plain": [
       "<Figure size 432x288 with 1 Axes>"
      ]
     },
     "metadata": {
      "needs_background": "light"
     },
     "output_type": "display_data"
    }
   ],
   "source": [
    "import numpy as np\n",
    "import matplotlib.pyplot as plt #biblioteca gráfica para mostrar os gráficos\n",
    "\n",
    "lbda = 100 # taxa da distribuição exponencial\n",
    "beta = 1.0/lbda\n",
    "\n",
    "Y = np.random.exponential(beta, 500)\n",
    "plt.hist(Y, density=True, bins=50,lw=0,alpha=.8)\n",
    "\n",
    "m = np.mean(Y)\n",
    "md = np.median(Y)\n",
    "plt.vlines(m,0,lbda)\n",
    "plt.vlines(md,0,lbda, linestyles = 'dashed')\n",
    "plt.xticks(fontsize=14)\n",
    "plt.yticks(fontsize=14)\n",
    "plt.xlabel(\"x\",fontsize = 20) \n",
    "plt.ylabel(\"p(x)\", fontsize = 20) \n",
    "\n",
    "plt.show(True)"
   ]
  },
  {
   "cell_type": "markdown",
   "metadata": {},
   "source": [
    "Notamos que a média é similar à mediana se a distribuição é praticamente simétrica em relação à média. Caso a distribuição não seja simétrica, o mais adequado é usar a mediana como medida central."
   ]
  },
  {
   "cell_type": "markdown",
   "metadata": {},
   "source": [
    "## Medidas de dispersão"
   ]
  },
  {
   "cell_type": "markdown",
   "metadata": {},
   "source": [
    "As medidas de dispersão mais usadas são a variância e o desvio padrão. A distância interquantil (IQR) também é bastante usada e quantifica a diferença entre o terceiro e primeiro quantil. Já a amplitude simplesmente mede a diferença entre os valores máximo e mínimo."
   ]
  },
  {
   "cell_type": "code",
   "execution_count": 16,
   "metadata": {},
   "outputs": [
    {
     "name": "stdout",
     "output_type": "stream",
     "text": [
      "X: [0, 0, 1, 1, 18]\n",
      "Média de X: 4.0\n",
      "Variância de X: 61.5\n",
      "IQR de X: 1.0\n",
      "Amplitude de X: 18\n",
      "\n",
      "\n",
      "Y: [4, 4, 4, 4, 4]\n",
      "Média de Y: 4.0\n",
      "Variância de Y: 0.0\n",
      "IQR de Y: 0.0\n",
      "Amplitude de Y: 0\n"
     ]
    }
   ],
   "source": [
    "from scipy.stats import iqr\n",
    "\n",
    "def variancia(X):\n",
    "    m = np.mean(X)\n",
    "    N = len(X)\n",
    "    s = 0\n",
    "    for i in np.arange(0, len(X)):\n",
    "        s = s + (X[i]-m)**2\n",
    "    s = s/(N-1)\n",
    "    return s\n",
    "\n",
    "X = [0, 0, 1, 1, 18]\n",
    "Y = [4, 4, 4, 4, 4]\n",
    "mx = np.mean(X)\n",
    "my = np.mean(Y)\n",
    "print('X:', X)\n",
    "print('Média de X:', mx)\n",
    "print('Variância de X:', variancia(X))\n",
    "print('IQR de X:', iqr(X))\n",
    "print('Amplitude de X:', np.max(X)-np.min(X))\n",
    "\n",
    "print('\\n')\n",
    "print('Y:', Y)\n",
    "print('Média de Y:', my)\n",
    "print('Variância de Y:', variancia(Y))\n",
    "print('IQR de Y:', iqr(Y))\n",
    "print('Amplitude de Y:', np.max(Y)-np.min(Y))"
   ]
  },
  {
   "cell_type": "markdown",
   "metadata": {},
   "source": [
    "Notem que os dados acima possuem a mesma média, mas a variância é bastante diferente."
   ]
  },
  {
   "cell_type": "markdown",
   "metadata": {},
   "source": [
    "## Correlação"
   ]
  },
  {
   "cell_type": "markdown",
   "metadata": {},
   "source": [
    "Vamos considerar alguns casos para vermos como se comporta o coeficiente de correlação de Pearson de acordo com diferentes tendências entre as variáveis $X$ e $Y$."
   ]
  },
  {
   "cell_type": "code",
   "execution_count": 20,
   "metadata": {},
   "outputs": [
    {
     "name": "stdout",
     "output_type": "stream",
     "text": [
      "[ 0.8         0.78383838  0.76767677  0.75151515  0.73535354  0.71919192\n",
      "  0.7030303   0.68686869  0.67070707  0.65454545  0.63838384  0.62222222\n",
      "  0.60606061  0.58989899  0.57373737  0.55757576  0.54141414  0.52525253\n",
      "  0.50909091  0.49292929  0.47676768  0.46060606  0.44444444  0.42828283\n",
      "  0.41212121  0.3959596   0.37979798  0.36363636  0.34747475  0.33131313\n",
      "  0.31515152  0.2989899   0.28282828  0.26666667  0.25050505  0.23434343\n",
      "  0.21818182  0.2020202   0.18585859  0.16969697  0.15353535  0.13737374\n",
      "  0.12121212  0.10505051  0.08888889  0.07272727  0.05656566  0.04040404\n",
      "  0.02424242  0.00808081 -0.00808081 -0.02424242 -0.04040404 -0.05656566\n",
      " -0.07272727 -0.08888889 -0.10505051 -0.12121212 -0.13737374 -0.15353535\n",
      " -0.16969697 -0.18585859 -0.2020202  -0.21818182 -0.23434343 -0.25050505\n",
      " -0.26666667 -0.28282828 -0.2989899  -0.31515152 -0.33131313 -0.34747475\n",
      " -0.36363636 -0.37979798 -0.3959596  -0.41212121 -0.42828283 -0.44444444\n",
      " -0.46060606 -0.47676768 -0.49292929 -0.50909091 -0.52525253 -0.54141414\n",
      " -0.55757576 -0.57373737 -0.58989899 -0.60606061 -0.62222222 -0.63838384\n",
      " -0.65454545 -0.67070707 -0.68686869 -0.7030303  -0.71919192 -0.73535354\n",
      " -0.75151515 -0.76767677 -0.78383838 -0.8       ]\n"
     ]
    },
    {
     "data": {
      "image/png": "[encoded data removed]",
      "text/plain": [
       "<Figure size 432x288 with 1 Axes>"
      ]
     },
     "metadata": {
      "needs_background": "light"
     },
     "output_type": "display_data"
    },
    {
     "name": "stdout",
     "output_type": "stream",
     "text": [
      "[ 0.61159173  0.58548825  0.90199395  0.8545502   0.55700387  0.786742\n",
      "  0.66299769  0.70831518  0.59984534  0.82602948  0.47992089  0.58442742\n",
      "  0.7317282   0.5925855   0.61108814  0.36462891  0.49869042  0.56156527\n",
      "  0.45204519  0.51063532  0.28481119  0.65598513  0.41617072  0.50870484\n",
      "  0.37397918  0.37540814  0.34589931  0.22901328  0.22214755  0.19846701\n",
      "  0.30780593  0.16877821  0.42670757  0.16105144  0.23561753  0.26518124\n",
      "  0.0785934   0.29896189  0.26340134  0.06278101  0.01370694  0.0874169\n",
      "  0.2057095   0.01569037 -0.0919277  -0.06259619  0.22636758 -0.12404977\n",
      "  0.09381744  0.06810505 -0.14022201  0.05692813 -0.13864393  0.05748684\n",
      " -0.0501546  -0.07887338 -0.22927125 -0.00885264 -0.01487826 -0.27944047\n",
      "  0.0028665  -0.10037201 -0.10725422 -0.13775333 -0.23708993 -0.22363713\n",
      " -0.11042811 -0.42699634 -0.2454159  -0.47394347 -0.3481431  -0.23794508\n",
      " -0.27875977 -0.41374167 -0.2895344  -0.49587915 -0.35341713 -0.41049474\n",
      " -0.65103221 -0.39219868 -0.55408952 -0.62970327 -0.37214154 -0.69987376\n",
      " -0.39859229 -0.75824301 -0.76358617 -0.79524159 -0.50308352 -0.73676636\n",
      " -0.52049719 -0.77487428 -0.79230002 -0.82408156 -0.60451844 -0.58208528\n",
      " -0.65573245 -0.85392481 -0.68045313 -0.70746692]\n"
     ]
    },
    {
     "data": {
      "image/png": "[encoded data removed]",
      "text/plain": [
       "<Figure size 432x288 with 1 Axes>"
      ]
     },
     "metadata": {
      "needs_background": "light"
     },
     "output_type": "display_data"
    },
    {
     "name": "stdout",
     "output_type": "stream",
     "text": [
      "[ 0.42318346  0.38713812  1.03631113  0.95758524  0.3786542   0.85429209\n",
      "  0.62296507  0.72976168  0.5289836   0.99751351  0.32145795  0.54663262\n",
      "  0.8573958   0.59527201  0.64843891  0.17168207  0.45596669  0.59787801\n",
      "  0.39499948  0.52834135  0.09285469  0.85136421  0.38789699  0.58912685\n",
      "  0.33583716  0.35485668  0.31200064  0.09439019  0.09682034  0.06562088\n",
      "  0.30046034  0.03856651  0.57058686  0.0554362   0.22073001  0.29601904\n",
      " -0.06099501  0.39590359  0.34094409 -0.04413494 -0.12612148  0.03746006\n",
      "  0.29020688 -0.07366976 -0.27274428 -0.19791966  0.3961695  -0.28850357\n",
      "  0.16339245  0.1281293  -0.2723632   0.13809867 -0.23688382  0.17153933\n",
      " -0.02758192 -0.06885787 -0.353492    0.10350685  0.10761721 -0.40534558\n",
      "  0.17542997 -0.01488543 -0.01248824 -0.05732485 -0.23983643 -0.19676922\n",
      "  0.04581045 -0.57116439 -0.1918419  -0.63273543 -0.36497306 -0.12841542\n",
      " -0.19388318 -0.44768536 -0.1831092  -0.5796371  -0.27855143 -0.37654503\n",
      " -0.84145837 -0.30762968 -0.61524975 -0.75031563 -0.21903056 -0.85833338\n",
      " -0.23960883 -0.94274865 -0.93727335 -0.98442258 -0.38394481 -0.83514888\n",
      " -0.38644892 -0.87904148 -0.89773135 -0.94513281 -0.48984497 -0.42881703\n",
      " -0.55994976 -0.94017286 -0.57706788 -0.61493384]\n"
     ]
    },
    {
     "data": {
      "image/png": "[encoded data removed]",
      "text/plain": [
       "<Figure size 432x288 with 1 Axes>"
      ]
     },
     "metadata": {
      "needs_background": "light"
     },
     "output_type": "display_data"
    },
    {
     "name": "stdout",
     "output_type": "stream",
     "text": [
      "[ 0.23477519  0.18878799  1.17062832  1.06062029  0.20030453  0.92184217\n",
      "  0.58293245  0.75120817  0.45812187  1.16899754  0.162995    0.50883782\n",
      "  0.98306339  0.59795852  0.68578968 -0.02126478  0.41324297  0.63419075\n",
      "  0.33795377  0.54604738 -0.0991018   1.04674328  0.35962327  0.66954886\n",
      "  0.29769513  0.33430523  0.27810197 -0.04023289 -0.02850686 -0.06722524\n",
      "  0.29311475 -0.09164518  0.71446615 -0.05017903  0.20584249  0.32685685\n",
      " -0.20058342  0.49284528  0.41848684 -0.1510509  -0.2659499  -0.01249678\n",
      "  0.37470425 -0.1630299  -0.45356087 -0.33324313  0.56597142 -0.45295738\n",
      "  0.23296746  0.18815355 -0.4045044   0.21926922 -0.33512371  0.28559183\n",
      " -0.00500924 -0.05884235 -0.47771275  0.21586633  0.23011269 -0.53125069\n",
      "  0.34799344  0.07060114  0.08227774  0.02310364 -0.24258293 -0.1699013\n",
      "  0.20204901 -0.71533245 -0.1382679  -0.79152739 -0.38180302 -0.01888575\n",
      " -0.10900659 -0.48162905 -0.07668401 -0.66339504 -0.20368573 -0.34259533\n",
      " -1.03188452 -0.22306068 -0.67640998 -0.87092799 -0.06591958 -1.01679301\n",
      " -0.08062537 -1.12725429 -1.11096054 -1.17360356 -0.2648061  -0.9335314\n",
      " -0.25240065 -0.98320868 -1.00316268 -1.06618407 -0.37517149 -0.27554878\n",
      " -0.46416706 -1.02642091 -0.47368263 -0.52240076]\n"
     ]
    },
    {
     "data": {
      "image/png": "[encoded data removed]",
      "text/plain": [
       "<Figure size 432x288 with 1 Axes>"
      ]
     },
     "metadata": {
      "needs_background": "light"
     },
     "output_type": "display_data"
    },
    {
     "name": "stdout",
     "output_type": "stream",
     "text": [
      "[ 0.04636692 -0.00956214  1.3049455   1.16365533  0.02195486  0.98939225\n",
      "  0.54289984  0.77265467  0.38726013  1.34048157  0.00453205  0.47104302\n",
      "  1.10873099  0.60064503  0.72314045 -0.21421162  0.37051925  0.67050349\n",
      "  0.28090805  0.56375341 -0.29105829  1.24212235  0.33134954  0.74997088\n",
      "  0.2595531   0.31375377  0.24420331 -0.17485598 -0.15383406 -0.20007137\n",
      "  0.28576916 -0.22185688  0.85834544 -0.15579426  0.19095496  0.35769465\n",
      " -0.34017184  0.58978697  0.49602959 -0.25796685 -0.40577832 -0.06245362\n",
      "  0.45920163 -0.25239003 -0.63437746 -0.4685666   0.73577335 -0.61741118\n",
      "  0.30254248  0.24817779 -0.5366456   0.30043977 -0.4333636   0.39964432\n",
      "  0.01756343 -0.04882684 -0.60193349  0.32822582  0.35260816 -0.6571558\n",
      "  0.52055691  0.15608772  0.17704373  0.10353212 -0.24532943 -0.14303338\n",
      "  0.35828757 -0.8595005  -0.0846939  -0.95031935 -0.39863299  0.09064391\n",
      " -0.02412999 -0.51557274  0.02974119 -0.74715298 -0.12882003 -0.30864562\n",
      " -1.22231067 -0.13849168 -0.7375702  -0.99154035  0.0871914  -1.17525263\n",
      "  0.07835809 -1.31175992 -1.28464772 -1.36278455 -0.1456674  -1.03191392\n",
      " -0.11835238 -1.08737589 -1.10859402 -1.18723533 -0.26049801 -0.12228052\n",
      " -0.36838436 -1.11266895 -0.37029738 -0.42986768]\n"
     ]
    },
    {
     "data": {
      "image/png": "[encoded data removed]",
      "text/plain": [
       "<Figure size 432x288 with 1 Axes>"
      ]
     },
     "metadata": {
      "needs_background": "light"
     },
     "output_type": "display_data"
    },
    {
     "name": "stdout",
     "output_type": "stream",
     "text": [
      "[-0.14204135 -0.20791227  1.43926268  1.26669038 -0.15639481  1.05694233\n",
      "  0.50286722  0.79410117  0.3163984   1.5119656  -0.15393089  0.43324822\n",
      "  1.23439858  0.60333154  0.76049122 -0.40715847  0.32779552  0.70681623\n",
      "  0.22386234  0.58145943 -0.48301478  1.43750142  0.30307582  0.83039289\n",
      "  0.22141107  0.29320232  0.21030464 -0.30947907 -0.27916126 -0.3329175\n",
      "  0.27842357 -0.35206857  1.00222473 -0.26140949  0.17606744  0.38853245\n",
      " -0.47976025  0.68672866  0.57357235 -0.36488281 -0.54560674 -0.11241046\n",
      "  0.54369901 -0.34175017 -0.81519405 -0.60389006  0.90557527 -0.78186499\n",
      "  0.37211749  0.30820204 -0.66878679  0.38161032 -0.53160349  0.51369682\n",
      "  0.04013611 -0.03881133 -0.72615424  0.4405853   0.47510364 -0.78306091\n",
      "  0.69312038  0.24157429  0.27180971  0.1839606  -0.24807593 -0.11616546\n",
      "  0.51452613 -1.00366855 -0.0311199  -1.10911131 -0.41546295  0.20017358\n",
      "  0.0607466  -0.54951643  0.13616639 -0.83091092 -0.05395433 -0.27469592\n",
      " -1.41273683 -0.05392268 -0.79873043 -1.1121527   0.24030239 -1.33371225\n",
      "  0.23734156 -1.49626556 -1.4583349  -1.55196553 -0.02652869 -1.13029644\n",
      "  0.01569589 -1.19154309 -1.21402535 -1.30828658 -0.14582454  0.03098773\n",
      " -0.27260167 -1.198917   -0.26691213 -0.33733461]\n"
     ]
    },
    {
     "data": {
      "image/png": "[encoded data removed]",
      "text/plain": [
       "<Figure size 432x288 with 1 Axes>"
      ]
     },
     "metadata": {
      "needs_background": "light"
     },
     "output_type": "display_data"
    },
    {
     "name": "stdout",
     "output_type": "stream",
     "text": [
      "[-0.33044963 -0.4062624   1.57357987  1.36972542 -0.33474447  1.12449242\n",
      "  0.4628346   0.81554766  0.24553666  1.68344963 -0.31239384  0.39545342\n",
      "  1.36006618  0.60601805  0.79784199 -0.60010531  0.2850718   0.74312897\n",
      "  0.16681662  0.59916546 -0.67497127  1.63288049  0.27480209  0.9108149\n",
      "  0.18326904  0.27265086  0.17640597 -0.44410215 -0.40448847 -0.46576362\n",
      "  0.27107798 -0.48228026  1.14610402 -0.36702472  0.16117992  0.41937026\n",
      " -0.61934866  0.78367035  0.6511151  -0.47179876 -0.68543515 -0.16236729\n",
      "  0.62819638 -0.4311103  -0.99601063 -0.73921353  1.07537719 -0.94631879\n",
      "  0.4416925   0.36822629 -0.80092799  0.46278087 -0.62984338  0.62774931\n",
      "  0.06270878 -0.02879582 -0.85037499  0.55294479  0.59759911 -0.90896602\n",
      "  0.86568385  0.32706087  0.36657569  0.26438909 -0.25082243 -0.08929755\n",
      "  0.6707647  -1.14783661  0.0224541  -1.26790327 -0.43229291  0.30970324\n",
      "  0.14562319 -0.58346012  0.24259158 -0.91466887  0.02091137 -0.24074621\n",
      " -1.60316298  0.03064632 -0.85989066 -1.23276506  0.39341337 -1.49217187\n",
      "  0.39632502 -1.6807712  -1.63202208 -1.74114652  0.09261001 -1.22867896\n",
      "  0.14974416 -1.2957103  -1.31945668 -1.42933784 -0.03115106  0.18425598\n",
      " -0.17681897 -1.28516504 -0.16352687 -0.24480153]\n"
     ]
    },
    {
     "data": {
      "image/png": "[encoded data removed]",
      "text/plain": [
       "<Figure size 432x288 with 1 Axes>"
      ]
     },
     "metadata": {
      "needs_background": "light"
     },
     "output_type": "display_data"
    },
    {
     "name": "stdout",
     "output_type": "stream",
     "text": [
      "[-0.5188579  -0.60461253  1.70789705  1.47276047 -0.51309414  1.1920425\n",
      "  0.42280199  0.83699416  0.17467493  1.85493366 -0.47085679  0.35765862\n",
      "  1.48573377  0.60870456  0.83519276 -0.79305216  0.24234808  0.77944171\n",
      "  0.10977091  0.61687149 -0.86692776  1.82825957  0.24652837  0.99123691\n",
      "  0.14512702  0.2520994   0.1425073  -0.57872524 -0.52981567 -0.59860975\n",
      "  0.26373239 -0.61249196  1.28998331 -0.47263995  0.1462924   0.45020806\n",
      " -0.75893708  0.88061205  0.72865785 -0.57871472 -0.82526357 -0.21232413\n",
      "  0.71269376 -0.52047044 -1.17682722 -0.874537    1.24517912 -1.1107726\n",
      "  0.51126752  0.42825053 -0.93306919  0.54395142 -0.72808327  0.74180181\n",
      "  0.08528146 -0.01878031 -0.97459574  0.66530427  0.72009459 -1.03487114\n",
      "  1.03824732  0.41254744  0.46134167  0.34481757 -0.25356893 -0.06242963\n",
      "  0.82700326 -1.29200466  0.0760281  -1.42669523 -0.44912288  0.41923291\n",
      "  0.23049979 -0.61740381  0.34901678 -0.99842681  0.09577707 -0.2067965\n",
      " -1.79358914  0.11521532 -0.92105089 -1.35337742  0.54652435 -1.65063149\n",
      "  0.55530848 -1.86527684 -1.80570926 -1.9303275   0.21174872 -1.32706148\n",
      "  0.28379242 -1.3998775  -1.42488802 -1.55038909  0.08352241  0.33752424\n",
      " -0.08103627 -1.37141309 -0.06014162 -0.15226845]\n"
     ]
    },
    {
     "data": {
      "image/png": "[encoded data removed]",
      "text/plain": [
       "<Figure size 432x288 with 1 Axes>"
      ]
     },
     "metadata": {
      "needs_background": "light"
     },
     "output_type": "display_data"
    },
    {
     "name": "stdout",
     "output_type": "stream",
     "text": [
      "[-0.70726617 -0.80296266  1.84221424  1.57579551 -0.69144381  1.25959258\n",
      "  0.38276937  0.85844065  0.10381319  2.02641769 -0.62931973  0.31986382\n",
      "  1.61140136  0.61139107  0.87254353 -0.985999    0.19962435  0.81575446\n",
      "  0.05272519  0.63457752 -1.05888425  2.02363864  0.21825464  1.07165892\n",
      "  0.10698499  0.23154795  0.10860863 -0.71334832 -0.65514287 -0.73145587\n",
      "  0.2563868  -0.74270365  1.4338626  -0.57825519  0.13140488  0.48104586\n",
      " -0.89852549  0.97755374  0.8062006  -0.68563067 -0.96509199 -0.26228097\n",
      "  0.79719114 -0.60983057 -1.35764381 -1.00986047  1.41498104 -1.27522641\n",
      "  0.58084253  0.48827478 -1.06521038  0.62512197 -0.82632316  0.8558543\n",
      "  0.10785414 -0.0087648  -1.09881648  0.77766376  0.84259006 -1.16077625\n",
      "  1.21081079  0.49803402  0.55610766  0.42524606 -0.25631543 -0.03556171\n",
      "  0.98324182 -1.43617272  0.1296021  -1.58548719 -0.46595284  0.52876257\n",
      "  0.31537638 -0.65134751  0.45544198 -1.08218475  0.17064277 -0.1728468\n",
      " -1.98401529  0.19978432 -0.98221112 -1.47398978  0.69963533 -1.80909111\n",
      "  0.71429194 -2.04978247 -1.97939645 -2.11950849  0.33088743 -1.425444\n",
      "  0.41784069 -1.50404471 -1.53031935 -1.67144035  0.19819589  0.49079249\n",
      "  0.01474643 -1.45766114  0.04324363 -0.05973537]\n"
     ]
    },
    {
     "data": {
      "image/png": "[encoded data removed]",
      "text/plain": [
       "<Figure size 432x288 with 1 Axes>"
      ]
     },
     "metadata": {
      "needs_background": "light"
     },
     "output_type": "display_data"
    },
    {
     "name": "stdout",
     "output_type": "stream",
     "text": [
      "[-8.95674438e-01 -1.00131280e+00  1.97653142e+00  1.67883056e+00\n",
      " -8.69793479e-01  1.32714267e+00  3.42736753e-01  8.79887150e-01\n",
      "  3.29514575e-02  2.19790172e+00 -7.87782681e-01  2.82069024e-01\n",
      "  1.73706896e+00  6.14077585e-01  9.09894303e-01 -1.17894584e+00\n",
      "  1.56900630e-01  8.52067197e-01 -4.32052116e-03  6.52283546e-01\n",
      " -1.25084074e+00  2.21901771e+00  1.89980915e-01  1.15208093e+00\n",
      "  6.88429601e-02  2.10996491e-01  7.47099649e-02 -8.47971410e-01\n",
      " -7.80470073e-01 -8.64301996e-01  2.49041215e-01 -8.72915346e-01\n",
      "  1.57774189e+00 -6.83870418e-01  1.16517356e-01  5.11883667e-01\n",
      " -1.03811390e+00  1.07449543e+00  8.83743353e-01 -7.92546628e-01\n",
      " -1.10492041e+00 -3.12237810e-01  8.81688515e-01 -6.99190704e-01\n",
      " -1.53846039e+00 -1.14518393e+00  1.58478296e+00 -1.43968021e+00\n",
      "  6.50417543e-01  5.48299026e-01 -1.19735158e+00  7.06292520e-01\n",
      " -9.24563052e-01  9.69906800e-01  1.30426813e-01  1.25071280e-03\n",
      " -1.22303723e+00  8.90023242e-01  9.65085538e-01 -1.28668136e+00\n",
      "  1.38337426e+00  5.83520595e-01  6.50873639e-01  5.05674542e-01\n",
      " -2.59061928e-01 -8.69379248e-03  1.13948038e+00 -1.58034077e+00\n",
      "  1.83176096e-01 -1.74427915e+00 -4.82782805e-01  6.38292239e-01\n",
      "  4.00252972e-01 -6.85291196e-01  5.61867175e-01 -1.16594269e+00\n",
      "  2.45508469e-01 -1.38897093e-01 -2.17444144e+00  2.84353322e-01\n",
      " -1.04337135e+00 -1.59460214e+00  8.52746315e-01 -1.96755073e+00\n",
      "  8.73275406e-01 -2.23428811e+00 -2.15308363e+00 -2.30868947e+00\n",
      "  4.50026132e-01 -1.52382652e+00  5.51888960e-01 -1.60821191e+00\n",
      " -1.63575068e+00 -1.79249161e+00  3.12869367e-01  6.44060744e-01\n",
      "  1.10529122e-01 -1.54390918e+00  1.46628879e-01  3.27977088e-02]\n"
     ]
    },
    {
     "data": {
      "image/png": "[encoded data removed]",
      "text/plain": [
       "<Figure size 432x288 with 1 Axes>"
      ]
     },
     "metadata": {
      "needs_background": "light"
     },
     "output_type": "display_data"
    }
   ],
   "source": [
    "import numpy as np\n",
    "import matplotlib.pyplot as plt\n",
    "from scipy.stats import pearsonr\n",
    "\n",
    "N = 100\n",
    "X = np.linspace(-1,1, N)\n",
    "# print(X)\n",
    "erro = np.random.uniform(-1,1,N) # ruído a ser incluído na relação linear.\n",
    "# print(erro)\n",
    "\n",
    "for sigma in np.arange(0,2,0.2):\n",
    "    Y = -0.8*X + erro*sigma\n",
    "    # print(Y)\n",
    "    plt.plot(X,Y, 'ro')\n",
    "    corr, p_value = pearsonr(X, Y) # calcula a correlação\n",
    "    corr = int(corr*100)/100\n",
    "    string = 'corr = '+ str(corr)\n",
    "    plt.xlim(-1.5,1.5)\n",
    "    plt.ylim(-2, 2)\n",
    "    plt.text(0.6,1.7, string, fontsize=15)\n",
    "    plt.show(True)"
   ]
  },
  {
   "cell_type": "markdown",
   "metadata": {},
   "source": [
    "A medida de correlação é importante para analisar a relação entre as variáveis. Se duas variáveis são altamente correlacionadas, é adequado remover uma delas, de modo a reduzir informação redundante nos dados."
   ]
  },
  {
   "cell_type": "markdown",
   "metadata": {},
   "source": [
    "Vamos considerar a base de dados da flor Iris:"
   ]
  },
  {
   "cell_type": "code",
   "execution_count": 22,
   "metadata": {},
   "outputs": [
    {
     "data": {
      "image/png": "[encoded data removed]",
      "text/plain": [
       "<Figure size 504x360 with 2 Axes>"
      ]
     },
     "metadata": {
      "needs_background": "light"
     },
     "output_type": "display_data"
    }
   ],
   "source": [
    "import pandas as pd # biblioteca pandas\n",
    "data = pd.read_csv('data/iris.csv', header=(0)) # lê os dados a partir do arquivo\n",
    "\n",
    "corr = data.corr()\n",
    "#Plot Correlation Matrix using Matplotlib\n",
    "plt.figure(figsize=(7, 5))\n",
    "plt.imshow(corr, cmap='Blues', interpolation='none', aspect='auto')\n",
    "plt.colorbar()\n",
    "plt.xticks(range(len(corr)), corr.columns, rotation='vertical')\n",
    "plt.yticks(range(len(corr)), corr.columns);\n",
    "plt.suptitle('Correlation between variables', fontsize=15, fontweight='bold')\n",
    "plt.grid(False)\n",
    "plt.show()"
   ]
  },
  {
   "cell_type": "markdown",
   "metadata": {},
   "source": [
    "Podemos mostrar a mesma tabela usando a biblioteca Searborn:"
   ]
  },
  {
   "cell_type": "code",
   "execution_count": 23,
   "metadata": {},
   "outputs": [
    {
     "data": {
      "image/png": "[encoded data removed]",
      "text/plain": [
       "<Figure size 432x432 with 2 Axes>"
      ]
     },
     "metadata": {
      "needs_background": "light"
     },
     "output_type": "display_data"
    }
   ],
   "source": [
    "import seaborn as sns\n",
    "plt.figure(figsize= (6, 6))\n",
    "sns.heatmap(data.corr())\n",
    "plt.show(sns)"
   ]
  },
  {
   "cell_type": "markdown",
   "metadata": {},
   "source": [
    "Para obtermos um resumo das medidas estatística dos dados:"
   ]
  },
  {
   "cell_type": "code",
   "execution_count": 24,
   "metadata": {},
   "outputs": [
    {
     "data": {
      "text/html": [
       "<div>\n",
       "<style scoped>\n",
       "    .dataframe tbody tr th:only-of-type {\n",
       "        vertical-align: middle;\n",
       "    }\n",
       "\n",
       "    .dataframe tbody tr th {\n",
       "        vertical-align: top;\n",
       "    }\n",
       "\n",
       "    .dataframe thead th {\n",
       "        text-align: right;\n",
       "    }\n",
       "</style>\n",
       "<table border=\"1\" class=\"dataframe\">\n",
       "  <thead>\n",
       "    <tr style=\"text-align: right;\">\n",
       "      <th></th>\n",
       "      <th>sepal_length</th>\n",
       "      <th>sepal_width</th>\n",
       "      <th>petal_length</th>\n",
       "      <th>petal_width</th>\n",
       "    </tr>\n",
       "  </thead>\n",
       "  <tbody>\n",
       "    <tr>\n",
       "      <th>count</th>\n",
       "      <td>150.000000</td>\n",
       "      <td>150.000000</td>\n",
       "      <td>150.000000</td>\n",
       "      <td>150.000000</td>\n",
       "    </tr>\n",
       "    <tr>\n",
       "      <th>mean</th>\n",
       "      <td>5.843333</td>\n",
       "      <td>3.054000</td>\n",
       "      <td>3.758667</td>\n",
       "      <td>1.198667</td>\n",
       "    </tr>\n",
       "    <tr>\n",
       "      <th>std</th>\n",
       "      <td>0.828066</td>\n",
       "      <td>0.433594</td>\n",
       "      <td>1.764420</td>\n",
       "      <td>0.763161</td>\n",
       "    </tr>\n",
       "    <tr>\n",
       "      <th>min</th>\n",
       "      <td>4.300000</td>\n",
       "      <td>2.000000</td>\n",
       "      <td>1.000000</td>\n",
       "      <td>0.100000</td>\n",
       "    </tr>\n",
       "    <tr>\n",
       "      <th>25%</th>\n",
       "      <td>5.100000</td>\n",
       "      <td>2.800000</td>\n",
       "      <td>1.600000</td>\n",
       "      <td>0.300000</td>\n",
       "    </tr>\n",
       "    <tr>\n",
       "      <th>50%</th>\n",
       "      <td>5.800000</td>\n",
       "      <td>3.000000</td>\n",
       "      <td>4.350000</td>\n",
       "      <td>1.300000</td>\n",
       "    </tr>\n",
       "    <tr>\n",
       "      <th>75%</th>\n",
       "      <td>6.400000</td>\n",
       "      <td>3.300000</td>\n",
       "      <td>5.100000</td>\n",
       "      <td>1.800000</td>\n",
       "    </tr>\n",
       "    <tr>\n",
       "      <th>max</th>\n",
       "      <td>7.900000</td>\n",
       "      <td>4.400000</td>\n",
       "      <td>6.900000</td>\n",
       "      <td>2.500000</td>\n",
       "    </tr>\n",
       "  </tbody>\n",
       "</table>\n",
       "</div>"
      ],
      "text/plain": [
       "       sepal_length  sepal_width  petal_length  petal_width\n",
       "count    150.000000   150.000000    150.000000   150.000000\n",
       "mean       5.843333     3.054000      3.758667     1.198667\n",
       "std        0.828066     0.433594      1.764420     0.763161\n",
       "min        4.300000     2.000000      1.000000     0.100000\n",
       "25%        5.100000     2.800000      1.600000     0.300000\n",
       "50%        5.800000     3.000000      4.350000     1.300000\n",
       "75%        6.400000     3.300000      5.100000     1.800000\n",
       "max        7.900000     4.400000      6.900000     2.500000"
      ]
     },
     "execution_count": 24,
     "metadata": {},
     "output_type": "execute_result"
    }
   ],
   "source": [
    "data.describe() "
   ]
  },
  {
   "cell_type": "markdown",
   "metadata": {},
   "source": [
    "Além do coeficiente de Pearson, podemos considerar o coeficiente de correlação de Spearman:"
   ]
  },
  {
   "cell_type": "code",
   "execution_count": 25,
   "metadata": {},
   "outputs": [
    {
     "data": {
      "image/png": "[encoded data removed]",
      "text/plain": [
       "<Figure size 432x288 with 1 Axes>"
      ]
     },
     "metadata": {
      "needs_background": "light"
     },
     "output_type": "display_data"
    }
   ],
   "source": [
    "import numpy as np\n",
    "import matplotlib.pyplot as plt\n",
    "from scipy.stats import pearsonr, spearmanr\n",
    "\n",
    "N = 100\n",
    "x = np.linspace(1, 50000, N) \n",
    "z = np.log(x)\n",
    "\n",
    "plt.plot(x, z) \n",
    "plt.xlabel(\"x\",fontsize = 20) \n",
    "plt.ylabel(\"Log(X)\", fontsize = 20) \n",
    "corr, p_value = pearsonr(x, z)\n",
    "corrs, p_values = spearmanr(x, z)\n",
    "corr = int(corr*100)/100\n",
    "corrs = int(corrs*100)/100\n",
    "string = 'Pearson corr. = '+ str(corr)\n",
    "plt.text(20000,3, string, fontsize=15)\n",
    "string = 'Spearman corr. = '+ str(corrs)\n",
    "plt.text(20000,1, string, fontsize=15)\n",
    "plt.show()"
   ]
  },
  {
   "cell_type": "markdown",
   "metadata": {},
   "source": [
    "Notem que nesse caso, os coeficientes de Spearman e Pearson são diferentes. Veja o material da aula teórica."
   ]
  },
  {
   "cell_type": "markdown",
   "metadata": {},
   "source": [
    "### Medidas de Entropia"
   ]
  },
  {
   "cell_type": "markdown",
   "metadata": {},
   "source": [
    "A entropia de Shannon para um dado de N lados:"
   ]
  },
  {
   "cell_type": "code",
   "execution_count": 26,
   "metadata": {},
   "outputs": [
    {
     "name": "stdout",
     "output_type": "stream",
     "text": [
      "Entropia de Shannon:  2.584962500721156\n"
     ]
    }
   ],
   "source": [
    "from scipy.stats import entropy\n",
    "N = 6\n",
    "Px = np.ones(N)*1/N\n",
    "H = entropy(Px, base=2) \n",
    "print(\"Entropia de Shannon: \", H)"
   ]
  },
  {
   "cell_type": "markdown",
   "metadata": {},
   "source": [
    "Notem que essa entropia é máxima, visto que a distribuição uniforme é a que oferece maior informação e maior dificuldade na previsao. Para um vetor com um único valor, a entropia é mínima (ou seja, um dado com faces iguais).\n",
    "Vejam o exemplo abaixo para uma moeda cujas probabilidade de sair cara e coroa variam. Modifique os valores e veja o que acontece com a entropia."
   ]
  },
  {
   "cell_type": "code",
   "execution_count": 27,
   "metadata": {},
   "outputs": [
    {
     "name": "stdout",
     "output_type": "stream",
     "text": [
      "Entropia de Shannon:  0.0\n",
      "Entropia de Shannon:  0.8112781244591328\n",
      "Entropia de Shannon:  1.0\n"
     ]
    }
   ],
   "source": [
    "from scipy.stats import entropy\n",
    "Px = [1, 0] # probabilidade de sair cara e coroa\n",
    "H = entropy(Px, base=2) \n",
    "print(\"Entropia de Shannon: \", H)\n",
    "\n",
    "Px = [0.75, 0.25] # a soma dos elementos do vetor deve ser igual a 1.\n",
    "H = entropy(Px, base=2) \n",
    "print(\"Entropia de Shannon: \", H)\n",
    "\n",
    "Px = [0.5, 0.5]\n",
    "H = entropy(Px, base=2) \n",
    "print(\"Entropia de Shannon: \", H)"
   ]
  },
  {
   "cell_type": "markdown",
   "metadata": {},
   "source": [
    "Entropia de relativa (divergência de Kulback-Leibler) pode ser usada para comparar distribuições."
   ]
  },
  {
   "cell_type": "code",
   "execution_count": 28,
   "metadata": {},
   "outputs": [
    {
     "name": "stdout",
     "output_type": "stream",
     "text": [
      "KL(P,Q) =  0.10134076548572564\n",
      "KL(Q,P) =  0.09924413610176085\n"
     ]
    }
   ],
   "source": [
    "from scipy.stats import entropy\n",
    "P = [0.25,0.55,0.2]\n",
    "Q = [0.33, 0.33, 0.33]\n",
    "\n",
    "print('KL(P,Q) = ', entropy(P,Q, base = np.exp(1)))\n",
    "print('KL(Q,P) = ', entropy(Q,P, base = np.exp(1)))"
   ]
  },
  {
   "cell_type": "markdown",
   "metadata": {},
   "source": [
    "Se as distribuições forem iguais."
   ]
  },
  {
   "cell_type": "code",
   "execution_count": 29,
   "metadata": {},
   "outputs": [
    {
     "name": "stdout",
     "output_type": "stream",
     "text": [
      "KL(P,P) =  0.0\n",
      "KL(Q,Q) =  0.0\n"
     ]
    }
   ],
   "source": [
    "print('KL(P,P) = ', entropy(P,P, base = np.exp(1)))\n",
    "print('KL(Q,Q) = ', entropy(Q,Q, base = np.exp(1)))"
   ]
  },
  {
   "cell_type": "markdown",
   "metadata": {},
   "source": [
    "## Exercícios de fixação"
   ]
  },
  {
   "cell_type": "markdown",
   "metadata": {},
   "source": [
    "Não é necessário entregar os exercícios abaixo, mas é importante resolvê-los para fixar os conteúdos estudados."
   ]
  },
  {
   "cell_type": "markdown",
   "metadata": {},
   "source": [
    "1 -  Considere uma moeda cuja probabilidade de sair cara é $p$. Monte um gráfico da entropia em função do valor de $p$."
   ]
  },
  {
   "cell_type": "markdown",
   "metadata": {},
   "source": [
    "2 - Gere dados a partir de uma distribuição de Poisson. Calcula a média e variância e compare seus valores."
   ]
  },
  {
   "cell_type": "markdown",
   "metadata": {},
   "source": [
    "3 - Calcula e a divergência de Kullback-Leibler entre as distribuições normal e Poisson. Gerem os dados com mesma média e variância."
   ]
  },
  {
   "cell_type": "markdown",
   "metadata": {},
   "source": [
    "4 - Calcula e a divergência de Kullback-Leibler entre as distribuições Binomial e Poisson. Gerem os dados com mesma média e variância."
   ]
  },
  {
   "cell_type": "markdown",
   "metadata": {},
   "source": [
    "5 - Para a função log(), investigue como as correlações de Pearson e Spearman variam de acordo com o intervalo dos dados."
   ]
  },
  {
   "cell_type": "code",
   "execution_count": null,
   "metadata": {},
   "outputs": [],
   "source": []
  }
 ],
 "metadata": {
  "kernelspec": {
   "display_name": "Python 3",
   "language": "python",
   "name": "python3"
  },
  "language_info": {
   "codemirror_mode": {
    "name": "ipython",
    "version": 3
   },
   "file_extension": ".py",
   "mimetype": "text/x-python",
   "name": "python",
   "nbconvert_exporter": "python",
   "pygments_lexer": "ipython3",
   "version": "3.8.8"
  }
 },
 "nbformat": 4,
 "nbformat_minor": 2
}
