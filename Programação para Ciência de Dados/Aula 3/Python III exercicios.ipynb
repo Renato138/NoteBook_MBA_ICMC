{
 "cells": [
  {
   "cell_type": "markdown",
   "metadata": {},
   "source": [
    "# <span style=\"color:blue\"> MBA em Ciência de Dados</span>\n",
    "# <span style=\"color:blue\">Programação para Ciência de Dados</span>\n",
    "\n",
    "## <span style=\"color:blue\">Exercícios Python Parte III</span>\n",
    "**Material Produzido por Luis Gustavo Nonato**<br>\n",
    "**Cemeai - ICMC/USP São Carlos**"
   ]
  },
  {
   "cell_type": "markdown",
   "metadata": {},
   "source": [
    "#### <span style=\"color:red\">Recomenda-se fortemente que os exercícios sejam feitos sem consultar as respostas antecipadamente.</span>"
   ]
  },
  {
   "cell_type": "markdown",
   "metadata": {},
   "source": [
    "### Exercício 1) \n",
    "Considere a lista `palavras` abaixo. Utilizando o funcional <font color='blue'>map</font> construa uma nova lista chamada `palavrasM` contendo todos os elementos de `palavras`, porém, com o primeiro caracter em maiúsculo, ou seja,\n",
    "```python\n",
    "palavras = ['adeus','adoravel','amor',...]\n",
    "palavrasM = ['Adeus','Adoravel','Amor',...]\n",
    "```\n",
    "Todo o código deve estar em uma linha."
   ]
  },
  {
   "cell_type": "code",
   "execution_count": 8,
   "metadata": {},
   "outputs": [
    {
     "name": "stdout",
     "output_type": "stream",
     "text": [
      "['Adeus', 'Adoravel', 'Amor', 'Caminhos', 'Chuva', 'Coragem', 'Cuidar', 'Equilibrio', 'Esperanca', 'Felicidade', 'Gentilezas', 'Liberdade', 'Melancolia', 'Paz', 'Respeito', 'Riso', 'Saudade', 'Palimpsesto', 'Perfeito', 'Reciproco', 'Recomeçar', 'Resiliente', 'Sentir', 'Silencio', 'Imprescindivel', 'Sublime', 'Tertulias']\n"
     ]
    }
   ],
   "source": [
    "palavras = ['adeus','adoravel','amor','caminhos','chuva','coragem','cuidar','equilibrio',\n",
    "            'esperanca','felicidade','gentilezas','liberdade','melancolia','paz','respeito',\n",
    "            'riso','saudade','palimpsesto','perfeito','reciproco','recomeçar',\n",
    "            'resiliente','sentir','silencio','imprescindivel','sublime','tertulias']\n",
    "\n",
    "palavrasM = list(map(lambda palavra : palavra[0].upper() + palavra[1:], palavras))\n",
    "print(palavrasM)"
   ]
  },
  {
   "cell_type": "markdown",
   "metadata": {},
   "source": [
    "### Exercício 2)\n",
    "Utilizando o funcional <font color='blue'>filter</font>, construa uma nova lista `palavras5` contendo os elementos da lista `palavras` (definida no exercício 1) que contenham no máximo 5 caracteres. Todo o código deve estar em uma linha."
   ]
  },
  {
   "cell_type": "code",
   "execution_count": 10,
   "metadata": {},
   "outputs": [
    {
     "name": "stdout",
     "output_type": "stream",
     "text": [
      "['adeus', 'amor', 'chuva', 'paz', 'riso']\n"
     ]
    }
   ],
   "source": [
    "palavras5 = list(filter(lambda palavra : len(palavra) <= 5, palavras))\n",
    "print(palavras5)"
   ]
  },
  {
   "cell_type": "markdown",
   "metadata": {},
   "source": [
    "### Exercício 3) \n",
    "Utilize os funcionais <font color='blue'>map</font> e <font color='blue'>filter</font> para gerar uma nova lista `palavrasOS` contendo apenas os elementos da lista `palavras` que terminam com a letra 'o', adicionando a letras 's' no final de cada elemento, ou seja,\n",
    "```python\n",
    "palavrasOS = ['equilibrios', 'respeitos', 'risos', ...]\n",
    "```\n",
    "Todo o código deve estar em uma linha."
   ]
  },
  {
   "cell_type": "code",
   "execution_count": 11,
   "metadata": {},
   "outputs": [
    {
     "name": "stdout",
     "output_type": "stream",
     "text": [
      "['equilibrios', 'respeitos', 'risos', 'palimpsestos', 'perfeitos', 'reciprocos', 'silencios']\n"
     ]
    }
   ],
   "source": [
    "palavrasOS = list(map(lambda palavra : palavra + 's', filter(lambda word : word[-1] == 'o', palavras)))\n",
    "print(palavrasOS)"
   ]
  },
  {
   "cell_type": "markdown",
   "metadata": {},
   "source": [
    "### Exercício 4) \n",
    "Utilize os funcionais <font color='blue'>map</font> e <font color='blue'>reduce</font> para calcular o número total de caracteres na lista `palavras`. Todo o código deve estar em uma única linha."
   ]
  },
  {
   "cell_type": "code",
   "execution_count": 19,
   "metadata": {},
   "outputs": [
    {
     "name": "stdout",
     "output_type": "stream",
     "text": [
      "214\n",
      "214\n"
     ]
    }
   ],
   "source": [
    "from functools import reduce\n",
    "\n",
    "total_len = reduce(lambda total, tam : total + tam, map(lambda palavra : len(palavra), palavras))\n",
    "print(total_len)\n",
    "\n",
    "total_len = len(reduce(lambda total, p : total + p, palavras))\n",
    "print(total_len)"
   ]
  },
  {
   "cell_type": "markdown",
   "metadata": {},
   "source": [
    "### Exercício 5) \n",
    "Escreva a lista `palavras` em um arquivo chamado 'palavras.txt' de modo que cada linha do arquivo contenha um elemento da lista `palavras` seguido do número de caracteres, ou seja, as linhas do arquivo devem ser da forma:\n",
    "```sys\n",
    "adeus 5\n",
    "adoravel 8\n",
    "amor 4\n",
    ":\n",
    ":\n",
    "```\n",
    "Utilize o método <font color='blue'>write</font> para escrever as linhas do arquivo."
   ]
  },
  {
   "cell_type": "code",
   "execution_count": 29,
   "metadata": {},
   "outputs": [
    {
     "name": "stdout",
     "output_type": "stream",
     "text": [
      "adeus 5\n",
      "adoravel 8\n",
      "amor 4\n",
      "caminhos 8\n",
      "chuva 5\n",
      "coragem 7\n",
      "cuidar 6\n",
      "equilibrio 10\n",
      "esperanca 9\n",
      "felicidade 10\n",
      "gentilezas 10\n",
      "liberdade 9\n",
      "melancolia 10\n",
      "paz 3\n",
      "respeito 8\n",
      "riso 4\n",
      "saudade 7\n",
      "palimpsesto 11\n",
      "perfeito 8\n",
      "reciproco 9\n",
      "recomeçar 9\n",
      "resiliente 10\n",
      "sentir 6\n",
      "silencio 8\n",
      "imprescindivel 14\n",
      "sublime 7\n",
      "tertulias 9\n",
      "\n"
     ]
    }
   ],
   "source": [
    "with open('palavras.txt','w') as f:\n",
    "    for i in palavras:\n",
    "        # escreva seu código nesta linha\n",
    "        f.write(i + ' ' + str(len(i)) + '\\n')\n",
    "\n",
    "fo = open('palavras.txt','r')\n",
    "print(fo.read())"
   ]
  },
  {
   "cell_type": "markdown",
   "metadata": {},
   "source": [
    "### Exercício 6)\n",
    "Repita o exercício anterior, porém, utilizando o método <font color='blue'>writelines</font> para escrever o arquivo.\n",
    "\n",
    "__Dica__: prepare uma lista onde cada elemento corresponde a uma linha do arquivo."
   ]
  },
  {
   "cell_type": "code",
   "execution_count": 30,
   "metadata": {},
   "outputs": [
    {
     "name": "stdout",
     "output_type": "stream",
     "text": [
      "adeus 5\n",
      "adoravel 8\n",
      "amor 4\n",
      "caminhos 8\n",
      "chuva 5\n",
      "coragem 7\n",
      "cuidar 6\n",
      "equilibrio 10\n",
      "esperanca 9\n",
      "felicidade 10\n",
      "gentilezas 10\n",
      "liberdade 9\n",
      "melancolia 10\n",
      "paz 3\n",
      "respeito 8\n",
      "riso 4\n",
      "saudade 7\n",
      "palimpsesto 11\n",
      "perfeito 8\n",
      "reciproco 9\n",
      "recomeçar 9\n",
      "resiliente 10\n",
      "sentir 6\n",
      "silencio 8\n",
      "imprescindivel 14\n",
      "sublime 7\n",
      "tertulias 9\n",
      "\n"
     ]
    }
   ],
   "source": [
    "with open('palavras.txt', 'w') as f:\n",
    "    f.writelines(map(lambda palavra : palavra + ' ' + str(len(palavra)) + '\\n', palavras))\n",
    "\n",
    "fo = open('palavras.txt', 'r')\n",
    "print(fo.read())"
   ]
  },
  {
   "cell_type": "markdown",
   "metadata": {},
   "source": [
    "### Exercício 7) \n",
    "Crie uma classe chamada `manipula_arquivo` para concatenar ou dividir arquivos texto. \n",
    "A classe deve possuir as seguintes características:\n",
    "- Um método chamado `concatena` que recebe o nome de dois arquivos como parâmetros e concatena os arquivos em um terceiro arquivo cujo nome também é a concatenação dos nomes enviados. O método deve retornar o nome do novo arquivo criado.\n",
    "- Um método chamado `divide_ao_meio` que recebe o nome de um arquivo como parâmetro e gera um novo arquivo com metade das linhas do arquivo original. O nome do novo arquivo deve ser o mesmo do original adicionando o número 2 no final do nome."
   ]
  },
  {
   "cell_type": "code",
   "execution_count": 31,
   "metadata": {},
   "outputs": [],
   "source": [
    "from pathlib import Path\n",
    "class manipula_arquivo:\n",
    "    def concatena(self,arq1,arq2):\n",
    "        nome_arquivo = Path(arq1).stem + Path(arq2).stem + '.txt'\n",
    "        with open(nome_arquivo, 'w') as fc:\n",
    "            with open(arq1, 'r') as f1:\n",
    "                fc.write(f1.read())\n",
    "                \n",
    "            with open(arq2, 'r') as f2:\n",
    "                fc.write(f2.read())\n",
    "        \n",
    "        return nome_arquivo\n",
    "        \n",
    "    def divide_ao_meio(self,arq):\n",
    "        nome_arquivo = Path(arq).stem + '2.txt'\n",
    "        with open(nome_arquivo, 'w') as f2:\n",
    "            with open(arq, 'r') as f:\n",
    "                lines = f.readlines()\n",
    "                f2.writelines(lines[ : len(lines)//2])\n",
    "                \n",
    "        return nome_arquivo\n",
    "        "
   ]
  },
  {
   "cell_type": "markdown",
   "metadata": {},
   "source": [
    "Execute as próximas duas células para gerar os aquivos 'test1.txt' e 'test2.txt'."
   ]
  },
  {
   "cell_type": "code",
   "execution_count": 32,
   "metadata": {},
   "outputs": [
    {
     "name": "stdout",
     "output_type": "stream",
     "text": [
      "Writing test1.txt\n"
     ]
    }
   ],
   "source": [
    "%%writefile test1.txt\n",
    "conteudo do arquivo\n",
    "test1.txt para ser\n",
    "utilizado como teste para a\n",
    "classe construida"
   ]
  },
  {
   "cell_type": "code",
   "execution_count": 33,
   "metadata": {},
   "outputs": [
    {
     "name": "stdout",
     "output_type": "stream",
     "text": [
      "Writing test2.txt\n"
     ]
    }
   ],
   "source": [
    "%%writefile test2.txt\n",
    "conteudo do arquivo\n",
    "test2.txt para ser\n",
    "utilizado como teste para a\n",
    "classe construida"
   ]
  },
  {
   "cell_type": "code",
   "execution_count": 35,
   "metadata": {},
   "outputs": [
    {
     "name": "stdout",
     "output_type": "stream",
     "text": [
      "conteudo do arquivo\n",
      "test1.txt para ser\n",
      "utilizado como teste para a\n",
      "classe construida\n",
      "conteudo do arquivo\n",
      "test2.txt para ser\n",
      "utilizado como teste para a\n",
      "classe construida\n",
      "\n",
      "conteudo do arquivo\n",
      "test1.txt para ser\n",
      "\n"
     ]
    }
   ],
   "source": [
    "# Utilize o código abaixo para testar sua classe\n",
    "ma = manipula_arquivo()\n",
    "ma.concatena('test1.txt','test2.txt')\n",
    "ma.divide_ao_meio('test1.txt')\n",
    "\n",
    "with open('test1test2.txt','r') as f:\n",
    "    print(f.read())\n",
    "        \n",
    "with open('test12.txt','r') as f:\n",
    "    print(f.read())       "
   ]
  },
  {
   "cell_type": "markdown",
   "metadata": {},
   "source": [
    "### Exercício 8)\n",
    "Crie uma subclasse da classe `manipula_arquivo` chamada `soma_arquivos` com as seguintes propriedades:\n",
    "- o construtor da subclasse recebe o nome de um arquivo e armazena em uma variável.\n",
    "- sobrescreva o operador <font color='blue'>+</font> (via método <font color='blue'>\\_\\_add\\_\\_</font>) para que ele concatene dois arquivos (instâncias da subclasse) utilizando o método `concatena` da superclasse `manipula_arquivo`.\n",
    "- a subclasse deve possuir o conteúdo do arquivo quando o comando print for aplicado a uma instância da subclasse.\n",
    "\n",
    "__Dica:__ Faça o método <font color='blue'>\\_\\_add\\_\\_</font> retornar uma instância da subclasse `soma_arquivos`."
   ]
  },
  {
   "cell_type": "code",
   "execution_count": 47,
   "metadata": {},
   "outputs": [],
   "source": [
    "class soma_arquivos(manipula_arquivo):\n",
    "    nome_arquivo = ''\n",
    "    \n",
    "    def __init__(self,nome=''):\n",
    "        self.nome_arquivo = nome\n",
    "        \n",
    "    def __add__(self,o):\n",
    "        arq = manipula_arquivo.concatena(self, self.nome_arquivo, o.nome_arquivo)\n",
    "        return soma_arquivos(arq)\n",
    "    \n",
    "    def __str__(self):\n",
    "        with open(self.nome_arquivo, 'r') as f:\n",
    "            return f.read()\n",
    "        "
   ]
  },
  {
   "cell_type": "code",
   "execution_count": 48,
   "metadata": {},
   "outputs": [
    {
     "name": "stdout",
     "output_type": "stream",
     "text": [
      "conteudo do arquivo\n",
      "test1.txt para ser\n",
      "utilizado como teste para a\n",
      "classe construida\n",
      "conteudo do arquivo\n",
      "test2.txt para ser\n",
      "utilizado como teste para a\n",
      "classe construida\n",
      "\n"
     ]
    }
   ],
   "source": [
    "# Utilize o código abaixo para testar sua a subclasse criada\n",
    "obj1 = soma_arquivos('test1.txt')\n",
    "obj2 = soma_arquivos('test2.txt')\n",
    "obj3 = obj1+obj2\n",
    "print(obj3)"
   ]
  },
  {
   "cell_type": "code",
   "execution_count": null,
   "metadata": {},
   "outputs": [],
   "source": []
  }
 ],
 "metadata": {
  "kernelspec": {
   "display_name": "Python 3",
   "language": "python",
   "name": "python3"
  },
  "language_info": {
   "codemirror_mode": {
    "name": "ipython",
    "version": 3
   },
   "file_extension": ".py",
   "mimetype": "text/x-python",
   "name": "python",
   "nbconvert_exporter": "python",
   "pygments_lexer": "ipython3",
   "version": "3.8.8"
  }
 },
 "nbformat": 4,
 "nbformat_minor": 2
}
