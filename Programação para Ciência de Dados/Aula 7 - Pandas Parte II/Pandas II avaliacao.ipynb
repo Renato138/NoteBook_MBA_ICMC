{
 "cells": [
  {
   "cell_type": "markdown",
   "metadata": {},
   "source": [
    "# <font color=\"blue\"> MBA em Ciência de Dados</font>\n",
    "# <font color=\"blue\">Programação para Ciência de Dados</font>\n",
    "\n",
    "## <font color=\"blue\">Pandas Parte II - Solução da Avaliação</font>\n",
    "**Material Produzido por Luis Gustavo Nonato**<br>\n",
    "**Cemeai - ICMC/USP São Carlos**\n",
    "---"
   ]
  },
  {
   "cell_type": "markdown",
   "metadata": {},
   "source": [
    "Os exercícios a seguir farão uso dos arquivos <font style=\"font-family: monaco\">ESC2013\\_RMSP\\_CEM.csv</font> e <font style=\"font-family: monaco\">ENEM2015.csv</font> disponíveis para download no sistema _Moodle_."
   ]
  },
  {
   "cell_type": "code",
   "execution_count": 1,
   "metadata": {},
   "outputs": [],
   "source": [
    "import numpy as np\n",
    "import pandas as pd"
   ]
  },
  {
   "cell_type": "markdown",
   "metadata": {},
   "source": [
    "### Exercício 1)\n",
    "Carregue os arquivos <font style=\"font-family: monaco\">ESC2013\\_RMSP\\_CEM.csv</font> e <font style=\"font-family: monaco\">ENEM2015.csv</font>, armazenando-os em variáveis tipo DataFrame chamadas `escolas` e `enem` respectivamente. \n",
    "Os arquivos <font style=\"font-family: monaco\">ESC2013_RMSP_CEM.csv</font> e <font style=\"font-family: monaco\">ENEM2015.csv</font> possuem em comum o código das escolas, os quais estão armazenados nas colunas CODESC e CODIGO DA ENTIDADE, respectivamente.\n",
    "\n",
    "Quantas escolas cujo código aparece no arquivo <font style=\"font-family: monaco\">ENEM2015.csv</font> tambem aparecem em <font style=\"font-family: monaco\">ESC2013_RMSP_CEM.csv</font>?\n",
    "\n",
    "a) 1243 escolas<br>\n",
    "b) 1043 escolas <br>\n",
    "c) 10243 escolas <br>\n",
    "d) 1003 escolas\n",
    "\n",
    "**Dica**: Utilize o método <font color='blue'>isin</font> do <font color='blue'>pandas</font>."
   ]
  },
  {
   "cell_type": "code",
   "execution_count": 7,
   "metadata": {},
   "outputs": [
    {
     "data": {
      "text/plain": [
       "1243"
      ]
     },
     "execution_count": 7,
     "metadata": {},
     "output_type": "execute_result"
    }
   ],
   "source": [
    "# Solucao\n",
    "escolas = pd.read_csv('ESC2013_RMSP_CEM.csv')\n",
    "enem = pd.read_csv('ENEM2015.csv')\n",
    "\n",
    "x = pd.merge(escolas, enem, left_on='CODESC', right_on='CODIGO DA ENTIDADE')[['CODESC', 'CODIGO DA ENTIDADE']].drop_duplicates().shape[0]\n",
    "x"
   ]
  },
  {
   "cell_type": "markdown",
   "metadata": {},
   "source": [
    "### Exercício 2)\n",
    "\n",
    "Verifique quantos valores faltantes existem em cada um dos DataFrames:\n",
    "\n",
    "a) `escolas`: 776346 valores faltantes; `enem`: 1 valores faltantes <br>\n",
    "b) `escolas`: 776346 valores faltantes; `enem`: 3 valor faltante <br>\n",
    "c) `escolas`: 7346 valores faltantes; `enem`: 103 valores faltantes <br>\n",
    "d) `escolas`: 7346 valores faltantes; `enem`: 10 valores faltantes  "
   ]
  },
  {
   "cell_type": "code",
   "execution_count": 16,
   "metadata": {},
   "outputs": [
    {
     "data": {
      "text/plain": [
       "(776346, 3)"
      ]
     },
     "execution_count": 16,
     "metadata": {},
     "output_type": "execute_result"
    }
   ],
   "source": [
    "# Solucao\n",
    "total = escolas.isna().sum().sum(), enem.isna().sum().sum()\n",
    "total"
   ]
  },
  {
   "cell_type": "markdown",
   "metadata": {},
   "source": [
    "### Exercício 3)\n",
    "No DataFrame `escolas`, qual o rótulo da coluna com o maior número de valores faltantes.\n",
    "\n",
    "a) LP05_AF<br>\n",
    "b) MAT05_AF <br>\n",
    "c) IDEB05AF <br>\n",
    "d) COD_SC\n",
    "\n",
    "__Dica__: Utilize uma combinação dos comandos <font color='blue'>isna</font>, <font color='blue'>sum</font> e <font color='blue'>idxmax</font> do <font color='blue'>pandas</font>"
   ]
  },
  {
   "cell_type": "code",
   "execution_count": 26,
   "metadata": {},
   "outputs": [
    {
     "data": {
      "text/plain": [
       "'COD_SC'"
      ]
     },
     "execution_count": 26,
     "metadata": {},
     "output_type": "execute_result"
    }
   ],
   "source": [
    "# Solucao\n",
    "escolas.columns[escolas.isna().sum().argmax()]\n"
   ]
  },
  {
   "cell_type": "markdown",
   "metadata": {},
   "source": [
    "### Exercício 4)\n",
    "\n",
    "O DataFrame `enem` possui valores faltantes na coluna 'Classificacao'. Preencha os valores faltantes com o valor da 'média' da coluna. O valor aproximado da média utilizada para preencher os valores faltantes é:\n",
    "\n",
    "a) 1.96<br>\n",
    "b) 2.04<br>\n",
    "c) 3.10<br>\n",
    "d) 4.06"
   ]
  },
  {
   "cell_type": "code",
   "execution_count": 28,
   "metadata": {},
   "outputs": [
    {
     "data": {
      "text/plain": [
       "2.037903225806452"
      ]
     },
     "execution_count": 28,
     "metadata": {},
     "output_type": "execute_result"
    }
   ],
   "source": [
    "# Solucao\n",
    "enem['Classificacao'].mean()"
   ]
  },
  {
   "cell_type": "markdown",
   "metadata": {},
   "source": [
    "### Exercício 5)\n",
    "Os arquivos <font style=\"font-family: monaco\">ESC2013\\_RMSP\\_CEM.csv</font> e <font style=\"font-family: monaco\">ENEM2015.csv</font> possuem em comum o código das escolas, os quais estão armazenados nas colunas _CODESC_ e _CODIGO DA ENTIDADE_, respectivamente.\n",
    "\n",
    "Busque na coluna 'NUMERO DE PARTICIPANTES' do DataFrame `enem` o código da escola com o maior número de participantes no ENEM. Utilizando o código obtido, imprima o nome de tal escola (armazenado na coluna 'NOMEESC' do DataFrame `escolas`). A escola com o maior número de participantes é:\n",
    "\n",
    "a) TEOTONIO ALVES PEREIRA<br>\n",
    "b) THAMARA CORREA DE MATOS<br>\n",
    "c) BRASILIO FLORES DE AZEVEDO<br>\n",
    "d) OSWALDO SAMMARTINO"
   ]
  },
  {
   "cell_type": "code",
   "execution_count": 55,
   "metadata": {},
   "outputs": [
    {
     "data": {
      "text/plain": [
       "2254    BRASILIO FLORES DE AZEVEDO\n",
       "Name: NOMEESC, dtype: object"
      ]
     },
     "execution_count": 55,
     "metadata": {},
     "output_type": "execute_result"
    }
   ],
   "source": [
    "# Solucao\n",
    "\n",
    "x = escolas[ escolas['CODESC'] == enem.iloc[enem['NUMERO DE PARTICIPANTES'].argmax()]['CODIGO DA ENTIDADE']]['NOMEESC' ]\n",
    "x"
   ]
  },
  {
   "cell_type": "code",
   "execution_count": null,
   "metadata": {},
   "outputs": [],
   "source": []
  }
 ],
 "metadata": {
  "kernelspec": {
   "display_name": "Python 3",
   "language": "python",
   "name": "python3"
  },
  "language_info": {
   "codemirror_mode": {
    "name": "ipython",
    "version": 3
   },
   "file_extension": ".py",
   "mimetype": "text/x-python",
   "name": "python",
   "nbconvert_exporter": "python",
   "pygments_lexer": "ipython3",
   "version": "3.8.8"
  },
  "toc": {
   "base_numbering": 1,
   "nav_menu": {},
   "number_sections": true,
   "sideBar": true,
   "skip_h1_title": false,
   "title_cell": "Table of Contents",
   "title_sidebar": "Contents",
   "toc_cell": false,
   "toc_position": {},
   "toc_section_display": true,
   "toc_window_display": false
  }
 },
 "nbformat": 4,
 "nbformat_minor": 2
}
