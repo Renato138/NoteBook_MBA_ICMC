{
 "cells": [
  {
   "cell_type": "markdown",
   "metadata": {},
   "source": [
    "# <span style=\"color:blue\"> MBA em Ciência de Dados</span>\n",
    "# <span style=\"color:blue\">Programação para Ciência de Dados</span>\n",
    "\n",
    "## <span style=\"color:blue\">Numpy Parte I - Exercícios</span>\n",
    "**Material Produzido por Luis Gustavo Nonato**<br>\n",
    "**Cemeai - ICMC/USP São Carlos**"
   ]
  },
  {
   "cell_type": "markdown",
   "metadata": {},
   "source": [
    "#### <span style=\"color:red\">Recomenda-se fortemente que os exercícios sejam feitos sem consultar as respostas antecipadamente.</span>"
   ]
  },
  {
   "cell_type": "code",
   "execution_count": 18,
   "metadata": {},
   "outputs": [],
   "source": [
    "import numpy as np"
   ]
  },
  {
   "cell_type": "markdown",
   "metadata": {},
   "source": [
    "### Exercício 1)\n",
    "Utilize comprehension para gerar a lista de todos os números interios entre 0 e 19. Converta a lista em um <font color='blue'>numpy</font> array bidimensional (matriz) com 4 linhas e 5 colunas."
   ]
  },
  {
   "cell_type": "code",
   "execution_count": 4,
   "metadata": {},
   "outputs": [
    {
     "data": {
      "text/plain": [
       "array([[ 0,  1,  2,  3,  4],\n",
       "       [ 5,  6,  7,  8,  9],\n",
       "       [10, 11, 12, 13, 14],\n",
       "       [15, 16, 17, 18, 19]])"
      ]
     },
     "execution_count": 4,
     "metadata": {},
     "output_type": "execute_result"
    }
   ],
   "source": [
    "numeros = np.array( [x for x in range(0, 20)] ).reshape((4, 5))\n",
    "numeros"
   ]
  },
  {
   "cell_type": "markdown",
   "metadata": {},
   "source": [
    "### Exercício 2)\n",
    "Construa um array unidimensional com 30 números inteiros escolhidos de forma randômica no intervalo entre 0 e 20. Reformate o array para que se torne uma matriz `A` com 5 linhas e 6 colunas."
   ]
  },
  {
   "cell_type": "code",
   "execution_count": 5,
   "metadata": {},
   "outputs": [
    {
     "name": "stdout",
     "output_type": "stream",
     "text": [
      "[[19  0  4 11  4 11]\n",
      " [ 0 14  0 13 12 18]\n",
      " [13  3 14 14 14 14]\n",
      " [ 1 10 14  7 15 18]\n",
      " [17  1  9  8 14  4]]\n"
     ]
    }
   ],
   "source": [
    "numeros2 = np.random.randint(0, 20, 30).reshape((5, 6))\n",
    "print(numeros2)"
   ]
  },
  {
   "cell_type": "markdown",
   "metadata": {},
   "source": [
    "### Exercício 3)\n",
    "Crie uma __view__ da matriz `A` gerada na célula anterior contendo:\n",
    "- as linhas de `A` com índices 0,1 e 3\n",
    "- as linhas de `A` com índice 1 e 2 e as colunas com índice 0,2 e 4\n",
    "- as linhas de `A` com índice 1 e 3 e as colunas com índice 1 e 3"
   ]
  },
  {
   "cell_type": "code",
   "execution_count": 12,
   "metadata": {},
   "outputs": [
    {
     "name": "stdout",
     "output_type": "stream",
     "text": [
      "[[19  0  4 11  4 11]\n",
      " [ 0 14  0 13 12 18]\n",
      " [ 1 10 14  7 15 18]]\n",
      "[[19  4  4]\n",
      " [ 0  0 12]\n",
      " [13 14 14]]\n",
      "[[14 13]\n",
      " [10  7]]\n"
     ]
    }
   ],
   "source": [
    "v1 = numeros2[[0, 1, 3]]\n",
    "v2 = numeros2[0:3, [0, 2, 4]]\n",
    "v3 = numeros2[[1, 3]][:,[1, 3]]\n",
    "print(v1)\n",
    "print(v2)\n",
    "print(v3)\n"
   ]
  },
  {
   "cell_type": "markdown",
   "metadata": {},
   "source": [
    "### Exercício 4)\n",
    "Construa um array `A` bidimensional 5x6 com 30 números inteiros escolhidos de forma randômica no intervalo entre 0 e 20. \n",
    "- faça uma cópia do array `A` criado, chamando a cópia de `Ac`\n",
    "- Substitua todos os elementos do array `A` que sejam maiores que 10 pelo valor -1 \n",
    "- Substitua todos os elementos do array `Ac` que sejam maiores que 7 e menores que 15 pelo valor -1 \n",
    "\n",
    "__Dica:__ Gere máscaras booleanas para realizar as modificações nos arrays."
   ]
  },
  {
   "cell_type": "code",
   "execution_count": 36,
   "metadata": {},
   "outputs": [
    {
     "name": "stdout",
     "output_type": "stream",
     "text": [
      "[[15  4 14  6  1 11]\n",
      " [16 14  0  5 19  1]\n",
      " [ 0 12  7 16  5  3]\n",
      " [ 1  9 17  6 11  2]\n",
      " [17  9  7 11  9 18]]\n",
      "[[-1  4 -1  6  1 -1]\n",
      " [-1 -1  0  5 -1  1]\n",
      " [ 0 -1  7 -1  5  3]\n",
      " [ 1  9 -1  6 -1  2]\n",
      " [-1  9  7 -1  9 -1]]\n",
      "[[15  4 14  6  1 11]\n",
      " [-1 14  0  5 -1  1]\n",
      " [ 0 12  7 -1  5  3]\n",
      " [ 1  9 -1  6 11  2]\n",
      " [-1  9  7 11  9 -1]]\n"
     ]
    }
   ],
   "source": [
    "A = np.random.randint(0, 20, 30).reshape((5, 6))\n",
    "Ac = np.copy(A)\n",
    "print(Ac)\n",
    "\n",
    "A[A > 10] = -1\n",
    "print(A)\n",
    "\n",
    "Ac[(Ac > 7) & (Ac > 15)] = -1\n",
    "print(Ac)\n",
    "\n"
   ]
  },
  {
   "cell_type": "markdown",
   "metadata": {},
   "source": [
    "### Exercício 5)\n",
    "Construa um array `A` com 20 linhas e 10 colunas onde os elementos são os números interios de  1 até 200.\n",
    "- Crie uma __view__ de `A` chamada `A_lpares` contendo apenas as linhas de `A` com índice par. \n",
    "- Crie uma __view__ de `A` chamada `A_lpares_cimpares` contendo as linhas `A` com índice par e colunas com índice ímpar. "
   ]
  },
  {
   "cell_type": "code",
   "execution_count": 61,
   "metadata": {},
   "outputs": [
    {
     "name": "stdout",
     "output_type": "stream",
     "text": [
      "[[  1   2   3   4   5   6   7   8   9  10]\n",
      " [ 11  12  13  14  15  16  17  18  19  20]\n",
      " [ 21  22  23  24  25  26  27  28  29  30]\n",
      " [ 31  32  33  34  35  36  37  38  39  40]\n",
      " [ 41  42  43  44  45  46  47  48  49  50]\n",
      " [ 51  52  53  54  55  56  57  58  59  60]\n",
      " [ 61  62  63  64  65  66  67  68  69  70]\n",
      " [ 71  72  73  74  75  76  77  78  79  80]\n",
      " [ 81  82  83  84  85  86  87  88  89  90]\n",
      " [ 91  92  93  94  95  96  97  98  99 100]\n",
      " [101 102 103 104 105 106 107 108 109 110]\n",
      " [111 112 113 114 115 116 117 118 119 120]\n",
      " [121 122 123 124 125 126 127 128 129 130]\n",
      " [131 132 133 134 135 136 137 138 139 140]\n",
      " [141 142 143 144 145 146 147 148 149 150]\n",
      " [151 152 153 154 155 156 157 158 159 160]\n",
      " [161 162 163 164 165 166 167 168 169 170]\n",
      " [171 172 173 174 175 176 177 178 179 180]\n",
      " [181 182 183 184 185 186 187 188 189 190]\n",
      " [191 192 193 194 195 196 197 198 199 200]]\n",
      "[[  1   2   3   4   5   6   7   8   9  10]\n",
      " [ 21  22  23  24  25  26  27  28  29  30]\n",
      " [ 41  42  43  44  45  46  47  48  49  50]\n",
      " [ 61  62  63  64  65  66  67  68  69  70]\n",
      " [ 81  82  83  84  85  86  87  88  89  90]\n",
      " [101 102 103 104 105 106 107 108 109 110]\n",
      " [121 122 123 124 125 126 127 128 129 130]\n",
      " [141 142 143 144 145 146 147 148 149 150]\n",
      " [161 162 163 164 165 166 167 168 169 170]\n",
      " [181 182 183 184 185 186 187 188 189 190]]\n",
      "[[  2   4   6   8  10]\n",
      " [ 22  24  26  28  30]\n",
      " [ 42  44  46  48  50]\n",
      " [ 62  64  66  68  70]\n",
      " [ 82  84  86  88  90]\n",
      " [102 104 106 108 110]\n",
      " [122 124 126 128 130]\n",
      " [142 144 146 148 150]\n",
      " [162 164 166 168 170]\n",
      " [182 184 186 188 190]]\n"
     ]
    }
   ],
   "source": [
    "A = np.arange(1, 201).reshape((20, 10))\n",
    "print(A)\n",
    "\n",
    "A_lpares = A[np.arange(A.shape[0]) % 2 == 0]\n",
    "print(A_lpares)\n",
    "\n",
    "A_lpares_cimpares = A_lpares[:, np.arange(A.shape[1]) % 2 == 1]\n",
    "print(A_lpares_cimpares)"
   ]
  },
  {
   "cell_type": "markdown",
   "metadata": {},
   "source": [
    "### Exercício 6)\n",
    "Substitua os elememtos do array `A` do exercício anterior por -1 quando pelo menos um dos índices do elemento é par. \n",
    "\n",
    "__Dica:__ Construa uma máscara booleana"
   ]
  },
  {
   "cell_type": "code",
   "execution_count": 65,
   "metadata": {},
   "outputs": [
    {
     "name": "stdout",
     "output_type": "stream",
     "text": [
      "[[ True  True  True  True  True  True  True  True  True  True]\n",
      " [ True False  True False  True False  True False  True False]\n",
      " [ True  True  True  True  True  True  True  True  True  True]\n",
      " [ True False  True False  True False  True False  True False]\n",
      " [ True  True  True  True  True  True  True  True  True  True]\n",
      " [ True False  True False  True False  True False  True False]\n",
      " [ True  True  True  True  True  True  True  True  True  True]\n",
      " [ True False  True False  True False  True False  True False]\n",
      " [ True  True  True  True  True  True  True  True  True  True]\n",
      " [ True False  True False  True False  True False  True False]\n",
      " [ True  True  True  True  True  True  True  True  True  True]\n",
      " [ True False  True False  True False  True False  True False]\n",
      " [ True  True  True  True  True  True  True  True  True  True]\n",
      " [ True False  True False  True False  True False  True False]\n",
      " [ True  True  True  True  True  True  True  True  True  True]\n",
      " [ True False  True False  True False  True False  True False]\n",
      " [ True  True  True  True  True  True  True  True  True  True]\n",
      " [ True False  True False  True False  True False  True False]\n",
      " [ True  True  True  True  True  True  True  True  True  True]\n",
      " [ True False  True False  True False  True False  True False]]\n",
      "[[ -1  -1  -1  -1  -1  -1  -1  -1  -1  -1]\n",
      " [ -1  12  -1  14  -1  16  -1  18  -1  20]\n",
      " [ -1  -1  -1  -1  -1  -1  -1  -1  -1  -1]\n",
      " [ -1  32  -1  34  -1  36  -1  38  -1  40]\n",
      " [ -1  -1  -1  -1  -1  -1  -1  -1  -1  -1]\n",
      " [ -1  52  -1  54  -1  56  -1  58  -1  60]\n",
      " [ -1  -1  -1  -1  -1  -1  -1  -1  -1  -1]\n",
      " [ -1  72  -1  74  -1  76  -1  78  -1  80]\n",
      " [ -1  -1  -1  -1  -1  -1  -1  -1  -1  -1]\n",
      " [ -1  92  -1  94  -1  96  -1  98  -1 100]\n",
      " [ -1  -1  -1  -1  -1  -1  -1  -1  -1  -1]\n",
      " [ -1 112  -1 114  -1 116  -1 118  -1 120]\n",
      " [ -1  -1  -1  -1  -1  -1  -1  -1  -1  -1]\n",
      " [ -1 132  -1 134  -1 136  -1 138  -1 140]\n",
      " [ -1  -1  -1  -1  -1  -1  -1  -1  -1  -1]\n",
      " [ -1 152  -1 154  -1 156  -1 158  -1 160]\n",
      " [ -1  -1  -1  -1  -1  -1  -1  -1  -1  -1]\n",
      " [ -1 172  -1 174  -1 176  -1 178  -1 180]\n",
      " [ -1  -1  -1  -1  -1  -1  -1  -1  -1  -1]\n",
      " [ -1 192  -1 194  -1 196  -1 198  -1 200]]\n"
     ]
    }
   ],
   "source": [
    "mask = [x%2==0 or y%2==0 for x in range(A.shape[0]) for y in range(A.shape[1])]\n",
    "mask = np.array(mask).reshape(A.shape)\n",
    "print(mask)\n",
    "A[mask] = -1\n",
    "print(A)"
   ]
  },
  {
   "cell_type": "markdown",
   "metadata": {},
   "source": [
    "### Exercício 7)\n",
    "Considere o array `X` de números tipo <font color='blue'>float</font> gerado a partir de uma distribuição uniforme no intervalo entre 0 e 1. Escreva um código para encontrar os três menores valores do array.\n",
    "\n",
    "__Dica:__ Converta o array em uma lista e ordene."
   ]
  },
  {
   "cell_type": "code",
   "execution_count": null,
   "metadata": {},
   "outputs": [],
   "source": []
  },
  {
   "cell_type": "markdown",
   "metadata": {},
   "source": [
    "### Exercício 8)\n",
    "Escreva uma função chamada `troca_colunas` que recebe um array e o índice de duas colunas como parâmetros e retorna o array com as colunas trocadas. Por exemplo:\n",
    "```python\n",
    "X = np.array([[0, 1, 2, 3, 4, 5], \n",
    "              [0, 1, 2, 3, 4, 5], \n",
    "              [0, 1, 2, 3, 4, 5]])\n",
    "\n",
    "X = troca_colunas(X,1,3)\n",
    "print(X)\n",
    "```\n",
    "deve resultar em\n",
    "```python\n",
    "[[0 3 2 1 4 5]\n",
    " [0 3 2 1 4 5]\n",
    " [0 3 2 1 4 5]]\n",
    "```\n"
   ]
  },
  {
   "cell_type": "code",
   "execution_count": 67,
   "metadata": {},
   "outputs": [
    {
     "name": "stdout",
     "output_type": "stream",
     "text": [
      "[[0 1 2 3 4 5]\n",
      " [0 1 2 3 4 5]\n",
      " [0 1 2 3 4 5]]\n",
      "[[0 3 2 1 4 5]\n",
      " [0 3 2 1 4 5]\n",
      " [0 3 2 1 4 5]]\n"
     ]
    }
   ],
   "source": [
    "def troca_colunas(A,i,j):\n",
    "    # inclua se codigo aqui\n",
    "    Acol = np.copy(A[:, [i, j]])\n",
    "    A[:, i] = Acol[:, 1]\n",
    "    A[:, j] = Acol[:, 0]\n",
    "    return(A)\n",
    "\n",
    "X = np.array([[0, 1, 2, 3, 4, 5], [0, 1, 2, 3, 4, 5], [0, 1, 2, 3, 4, 5]])\n",
    "print(X)\n",
    "\n",
    "X = troca_colunas(X,1,3)\n",
    "print(X)"
   ]
  },
  {
   "cell_type": "markdown",
   "metadata": {},
   "source": [
    "### Exercício 9)\n",
    "Os métodos <font color='blue'>vstack</font> e <font color='blue'>hstack</font> do <font color='blue'>numpy</font> empilha matrizes na vertical e horizontal, respectivamente. Por exemplo:\n",
    "```python\n",
    "A = [[1.0, 1.0, 1.0], [1.0, 1.0, 1.0]]\n",
    "B = [[2.0, 2.0, 2.0], [2.0, 2.0, 2.0]]\n",
    "\n",
    "C = np.vstack((A,B))\n",
    "print(C)\n",
    "```\n",
    "resulta em\n",
    "```python\n",
    "[[1. 1. 1.]\n",
    " [1. 1. 1.]\n",
    " [2. 2. 2.]\n",
    " [2. 2. 2.]]\n",
    "```\n",
    "Escreva um código para gerar duas matrizes `A` e `B` de números inteiros randômicos no intervalo entre 0 e 10, onde:\n",
    "- A matriz `A` é 5x6\n",
    "- A matriz `B` é 5x3\n",
    "\n",
    "Utilize o método <font color='blue'>hstack</font> para empilhar as matrizes\n",
    "\n",
    "O que acontece se tentar utilizar o método <font color='blue'>vstack</font>? Explique o motivo da mensagem gerada."
   ]
  },
  {
   "cell_type": "code",
   "execution_count": 71,
   "metadata": {},
   "outputs": [
    {
     "name": "stdout",
     "output_type": "stream",
     "text": [
      "[[4 9 2 6 5 6 2 7 7]\n",
      " [9 2 1 2 4 1 3 0 8]\n",
      " [8 8 8 7 2 4 9 3 1]\n",
      " [0 3 2 6 3 4 6 2 1]\n",
      " [0 4 9 0 8 7 6 7 4]]\n"
     ]
    },
    {
     "ename": "ValueError",
     "evalue": "all the input array dimensions for the concatenation axis must match exactly, but along dimension 1, the array at index 0 has size 6 and the array at index 1 has size 3",
     "output_type": "error",
     "traceback": [
      "\u001b[1;31m---------------------------------------------------------------------------\u001b[0m",
      "\u001b[1;31mValueError\u001b[0m                                Traceback (most recent call last)",
      "\u001b[1;32m<ipython-input-71-bb65156fe768>\u001b[0m in \u001b[0;36m<module>\u001b[1;34m\u001b[0m\n\u001b[0;32m      4\u001b[0m \u001b[0mprint\u001b[0m\u001b[1;33m(\u001b[0m\u001b[0mC\u001b[0m\u001b[1;33m)\u001b[0m\u001b[1;33m\u001b[0m\u001b[1;33m\u001b[0m\u001b[0m\n\u001b[0;32m      5\u001b[0m \u001b[1;33m\u001b[0m\u001b[0m\n\u001b[1;32m----> 6\u001b[1;33m \u001b[0mD\u001b[0m \u001b[1;33m=\u001b[0m \u001b[0mnp\u001b[0m\u001b[1;33m.\u001b[0m\u001b[0mvstack\u001b[0m\u001b[1;33m(\u001b[0m\u001b[1;33m(\u001b[0m\u001b[0mA\u001b[0m\u001b[1;33m,\u001b[0m \u001b[0mB\u001b[0m\u001b[1;33m)\u001b[0m\u001b[1;33m)\u001b[0m\u001b[1;33m\u001b[0m\u001b[1;33m\u001b[0m\u001b[0m\n\u001b[0m",
      "\u001b[1;32m<__array_function__ internals>\u001b[0m in \u001b[0;36mvstack\u001b[1;34m(*args, **kwargs)\u001b[0m\n",
      "\u001b[1;32m~\\anaconda3\\lib\\site-packages\\numpy\\core\\shape_base.py\u001b[0m in \u001b[0;36mvstack\u001b[1;34m(tup)\u001b[0m\n\u001b[0;32m    281\u001b[0m     \u001b[1;32mif\u001b[0m \u001b[1;32mnot\u001b[0m \u001b[0misinstance\u001b[0m\u001b[1;33m(\u001b[0m\u001b[0marrs\u001b[0m\u001b[1;33m,\u001b[0m \u001b[0mlist\u001b[0m\u001b[1;33m)\u001b[0m\u001b[1;33m:\u001b[0m\u001b[1;33m\u001b[0m\u001b[1;33m\u001b[0m\u001b[0m\n\u001b[0;32m    282\u001b[0m         \u001b[0marrs\u001b[0m \u001b[1;33m=\u001b[0m \u001b[1;33m[\u001b[0m\u001b[0marrs\u001b[0m\u001b[1;33m]\u001b[0m\u001b[1;33m\u001b[0m\u001b[1;33m\u001b[0m\u001b[0m\n\u001b[1;32m--> 283\u001b[1;33m     \u001b[1;32mreturn\u001b[0m \u001b[0m_nx\u001b[0m\u001b[1;33m.\u001b[0m\u001b[0mconcatenate\u001b[0m\u001b[1;33m(\u001b[0m\u001b[0marrs\u001b[0m\u001b[1;33m,\u001b[0m \u001b[1;36m0\u001b[0m\u001b[1;33m)\u001b[0m\u001b[1;33m\u001b[0m\u001b[1;33m\u001b[0m\u001b[0m\n\u001b[0m\u001b[0;32m    284\u001b[0m \u001b[1;33m\u001b[0m\u001b[0m\n\u001b[0;32m    285\u001b[0m \u001b[1;33m\u001b[0m\u001b[0m\n",
      "\u001b[1;32m<__array_function__ internals>\u001b[0m in \u001b[0;36mconcatenate\u001b[1;34m(*args, **kwargs)\u001b[0m\n",
      "\u001b[1;31mValueError\u001b[0m: all the input array dimensions for the concatenation axis must match exactly, but along dimension 1, the array at index 0 has size 6 and the array at index 1 has size 3"
     ]
    }
   ],
   "source": [
    "A = np.random.randint(0, 10, 30).reshape((5,6))\n",
    "B = np.random.randint(0, 10, 15).reshape((5,3))\n",
    "C = np.hstack((A, B))\n",
    "print(C)\n",
    "\n",
    "D = np.vstack((A, B))"
   ]
  },
  {
   "cell_type": "markdown",
   "metadata": {},
   "source": [
    "### Exercício 10)\n",
    "Escreva um código para, data uma matriz, zerar todos os elementos abaixo da diagonal principal da matriz. Por exemplo:\n",
    "```python\n",
    "[[2 8 3 4 8]\n",
    " [4 8 7 7 3]\n",
    " [8 2 3 1 4]\n",
    " [8 6 3 8 1]\n",
    " [6 4 4 6 1]]\n",
    "```\n",
    "deve resultar em\n",
    "```python\n",
    "[[2 8 3 4 8]\n",
    " [0 8 7 7 3]\n",
    " [0 0 3 1 4]\n",
    " [0 0 0 8 1]\n",
    " [0 0 0 0 1]]\n",
    "```"
   ]
  },
  {
   "cell_type": "code",
   "execution_count": 77,
   "metadata": {},
   "outputs": [
    {
     "name": "stdout",
     "output_type": "stream",
     "text": [
      "[[53 28 97 27 53 40  3 34 65 52]\n",
      " [54 66 25  1 40 29 66 30 68 63]\n",
      " [31 15 87 24 73 42 27 44 48 39]\n",
      " [67 61 83 21 40 68 76 93 36 44]\n",
      " [98 39 47 27 19 92 93 45 28 61]\n",
      " [24  9  8  1 71 95 43 30 27 65]\n",
      " [32 23  2  4 50 49 98 11 37 16]\n",
      " [ 2 53 74 18 38 70 95 65 53 16]\n",
      " [42 88 75 10 87  1 25 20 81 25]\n",
      " [82 94 63  2 35 51 88 53 92  2]]\n",
      "[[53 28 97 27 53 40  3 34 65 52]\n",
      " [ 0 66 25  1 40 29 66 30 68 63]\n",
      " [ 0  0 87 24 73 42 27 44 48 39]\n",
      " [ 0  0  0 21 40 68 76 93 36 44]\n",
      " [ 0  0  0  0 19 92 93 45 28 61]\n",
      " [ 0  0  0  0  0 95 43 30 27 65]\n",
      " [ 0  0  0  0  0  0 98 11 37 16]\n",
      " [ 0  0  0  0  0  0  0 65 53 16]\n",
      " [ 0  0  0  0  0  0  0  0 81 25]\n",
      " [ 0  0  0  0  0  0  0  0  0  2]]\n"
     ]
    }
   ],
   "source": [
    "A = np.random.randint(1, 100, 100).reshape((10,10))\n",
    "print (A)\n",
    "\n",
    "A[np.array([l > c for l in range(A.shape[0]) for c in range(A.shape[1])]).reshape(A.shape)] = 0\n",
    "print(A)"
   ]
  },
  {
   "cell_type": "code",
   "execution_count": null,
   "metadata": {},
   "outputs": [],
   "source": []
  }
 ],
 "metadata": {
  "kernelspec": {
   "display_name": "Python 3",
   "language": "python",
   "name": "python3"
  },
  "language_info": {
   "codemirror_mode": {
    "name": "ipython",
    "version": 3
   },
   "file_extension": ".py",
   "mimetype": "text/x-python",
   "name": "python",
   "nbconvert_exporter": "python",
   "pygments_lexer": "ipython3",
   "version": "3.8.8"
  }
 },
 "nbformat": 4,
 "nbformat_minor": 2
}
